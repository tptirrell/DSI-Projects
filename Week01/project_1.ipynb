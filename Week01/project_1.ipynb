{
 "cells": [
  {
   "cell_type": "markdown",
   "metadata": {},
   "source": [
    "# Project 1\n",
    "\n",
    "## Step 1: Open the `sat_scores.csv` file. Investigate the data, and answer the questions below.\n"
   ]
  },
  {
   "cell_type": "markdown",
   "metadata": {},
   "source": [
    "##### 1. What does the data describe?"
   ]
  },
  {
   "cell_type": "markdown",
   "metadata": {},
   "source": [
    "The data provides average SAT scores (both Math and Verbal) as well as a participation rate for each state. (It's not 100% clear that the rate represents participation, but that seems to be the most logical assumption.)"
   ]
  },
  {
   "cell_type": "markdown",
   "metadata": {},
   "source": [
    "##### 2. Does the data look complete? Are there any obvious issues with the observations?"
   ]
  },
  {
   "cell_type": "markdown",
   "metadata": {},
   "source": [
    "The data is complete besides the fact that the rate is ambiguous. It's also unclear if the data represent one year or an average of multiple years."
   ]
  },
  {
   "cell_type": "markdown",
   "metadata": {},
   "source": [
    "##### 3. Create a data dictionary for the dataset."
   ]
  },
  {
   "cell_type": "markdown",
   "metadata": {
    "collapsed": true
   },
   "source": [
    "satdata = {}"
   ]
  },
  {
   "cell_type": "markdown",
   "metadata": {},
   "source": [
    "## Step 2: Load the data."
   ]
  },
  {
   "cell_type": "markdown",
   "metadata": {},
   "source": [
    "##### 4. Load the data into a list of lists"
   ]
  },
  {
   "cell_type": "code",
   "execution_count": 55,
   "metadata": {
    "collapsed": false
   },
   "outputs": [],
   "source": [
    "import numpy as np\n",
    "import scipy.stats as stats\n",
    "import csv\n",
    "import seaborn as sns\n",
    "import matplotlib.pyplot as plt\n",
    "\n",
    "%matplotlib inline\n",
    "\n",
    "with open(\"/users/timtirrell/DSI-Projects/Week01/project-01/assets/sat_scores.csv\",'r') as f:\n",
    "    reader = csv.reader(f)\n",
    "    sat_data = [row for row in reader]\n",
    "  "
   ]
  },
  {
   "cell_type": "markdown",
   "metadata": {},
   "source": [
    "##### 5. Print the data"
   ]
  },
  {
   "cell_type": "code",
   "execution_count": 56,
   "metadata": {
    "collapsed": false
   },
   "outputs": [
    {
     "name": "stdout",
     "output_type": "stream",
     "text": [
      "State\tRate\tVerbal\tMath\n",
      "CT\t82\t509\t510\n",
      "NJ\t81\t499\t513\n",
      "MA\t79\t511\t515\n",
      "NY\t77\t495\t505\n",
      "NH\t72\t520\t516\n",
      "RI\t71\t501\t499\n",
      "PA\t71\t500\t499\n",
      "VT\t69\t511\t506\n",
      "ME\t69\t506\t500\n",
      "VA\t68\t510\t501\n",
      "DE\t67\t501\t499\n",
      "MD\t65\t508\t510\n",
      "NC\t65\t493\t499\n",
      "GA\t63\t491\t489\n",
      "IN\t60\t499\t501\n",
      "SC\t57\t486\t488\n",
      "DC\t56\t482\t474\n",
      "OR\t55\t526\t526\n",
      "FL\t54\t498\t499\n",
      "WA\t53\t527\t527\n",
      "TX\t53\t493\t499\n",
      "HI\t52\t485\t515\n",
      "AK\t51\t514\t510\n",
      "CA\t51\t498\t517\n",
      "AZ\t34\t523\t525\n",
      "NV\t33\t509\t515\n",
      "CO\t31\t539\t542\n",
      "OH\t26\t534\t439\n",
      "MT\t23\t539\t539\n",
      "WV\t18\t527\t512\n",
      "ID\t17\t543\t542\n",
      "TN\t13\t562\t553\n",
      "NM\t13\t551\t542\n",
      "IL\t12\t576\t589\n",
      "KY\t12\t550\t550\n",
      "WY\t11\t547\t545\n",
      "MI\t11\t561\t572\n",
      "MN\t9\t580\t589\n",
      "KS\t9\t577\t580\n",
      "AL\t9\t559\t554\n",
      "NB\t8\t562\t568\n",
      "OK\t8\t567\t561\n",
      "MO\t8\t577\t577\n",
      "LA\t7\t564\t562\n",
      "WI\t6\t584\t596\n",
      "AR\t6\t562\t550\n",
      "UT\t5\t575\t570\n",
      "IA\t5\t593\t603\n",
      "SD\t4\t577\t582\n",
      "ND\t4\t592\t599\n",
      "MS\t4\t566\t551\n",
      "All\t45\t506\t514\n"
     ]
    }
   ],
   "source": [
    "for i in range(len(sat_data)):\n",
    "    print('\\t'.join(sat_data[i]))"
   ]
  },
  {
   "cell_type": "markdown",
   "metadata": {
    "collapsed": true
   },
   "source": [
    "##### 6. Extract a list of the labels from the data, and remove them from the data."
   ]
  },
  {
   "cell_type": "code",
   "execution_count": 57,
   "metadata": {
    "collapsed": false
   },
   "outputs": [],
   "source": [
    "header = sat_data[0]\n",
    "del sat_data[0]"
   ]
  },
  {
   "cell_type": "markdown",
   "metadata": {},
   "source": [
    "##### 7. Create a list of State names extracted from the data. (Hint: use the list of labels to index on the State column)"
   ]
  },
  {
   "cell_type": "code",
   "execution_count": 59,
   "metadata": {
    "collapsed": false
   },
   "outputs": [],
   "source": [
    "statelist = []\n",
    "for i in range(len(sat_data)):\n",
    "    statelist.append(sat_data[i][0])"
   ]
  },
  {
   "cell_type": "markdown",
   "metadata": {},
   "source": [
    "##### 8. Print the types of each column"
   ]
  },
  {
   "cell_type": "code",
   "execution_count": 60,
   "metadata": {
    "collapsed": false
   },
   "outputs": [
    {
     "name": "stdout",
     "output_type": "stream",
     "text": [
      "State:\t<type 'str'>\n",
      "Rate:\t<type 'str'>\n",
      "Verbal:\t<type 'str'>\n",
      "Math:\t<type 'str'>\n"
     ]
    }
   ],
   "source": [
    "for i in range(4):\n",
    "    print \"%s:\\t%s\" % (header[i], str(type(sat_data[0][i])))"
   ]
  },
  {
   "cell_type": "markdown",
   "metadata": {},
   "source": [
    "##### 9. Do any types need to be reassigned? If so, go ahead and do it."
   ]
  },
  {
   "cell_type": "markdown",
   "metadata": {},
   "source": [
    "Yes, all are strings. Rate, Math, and Verbal should be int."
   ]
  },
  {
   "cell_type": "code",
   "execution_count": 61,
   "metadata": {
    "collapsed": false
   },
   "outputs": [],
   "source": [
    "for i in range(len(sat_data)):\n",
    "    for j in range(1,4):\n",
    "        sat_data[i][j] = int(sat_data[i][j])\n"
   ]
  },
  {
   "cell_type": "markdown",
   "metadata": {},
   "source": [
    "##### 10. Create a dictionary for each column mapping the State to its respective value for that column. "
   ]
  },
  {
   "cell_type": "code",
   "execution_count": 62,
   "metadata": {
    "collapsed": false
   },
   "outputs": [],
   "source": [
    "ratedict = {}\n",
    "verbaldict = {}\n",
    "mathdict = {}\n",
    "\n",
    "for i in range(len(statelist)):\n",
    "    ratedict.update({sat_data[i][0]:sat_data[i][1]})\n",
    "    verbaldict.update({sat_data[i][0]:sat_data[i][2]})\n",
    "    mathdict.update({sat_data[i][0]:sat_data[i][3]})"
   ]
  },
  {
   "cell_type": "markdown",
   "metadata": {},
   "source": [
    "##### 11. Create a dictionary with the values for each of the numeric columns"
   ]
  },
  {
   "cell_type": "code",
   "execution_count": 63,
   "metadata": {
    "collapsed": false
   },
   "outputs": [],
   "source": [
    "allrateslist = []\n",
    "allmathslist = []\n",
    "allverbalslist = []\n",
    "\n",
    "\n",
    "for i in range(len(statelist)):\n",
    "    allrateslist.append(sat_data[i][1])\n",
    "    allmathslist.append(sat_data[i][3])\n",
    "    allverbalslist.append(sat_data[i][2])\n",
    "    \n",
    "allratesdict = {\"Rate\":allrateslist}\n",
    "allmathsdict = {\"Math\":allmathslist}\n",
    "allverbalsdict = {\"Verbal\":allverbalslist}\n"
   ]
  },
  {
   "cell_type": "markdown",
   "metadata": {},
   "source": [
    "## Step 3: Describe the data"
   ]
  },
  {
   "cell_type": "markdown",
   "metadata": {},
   "source": [
    "##### 12. Print the min and max of each column"
   ]
  },
  {
   "cell_type": "code",
   "execution_count": 64,
   "metadata": {
    "collapsed": false
   },
   "outputs": [
    {
     "name": "stdout",
     "output_type": "stream",
     "text": [
      "Max Rate: 82\n",
      "Min Rate: 4\n",
      "Max Math Score: 603\n",
      "Min Math Score: 439\n",
      "Max Verbal Score: 593\n",
      "Min Verbal Score: 482\n"
     ]
    }
   ],
   "source": [
    "print \"Max Rate: \" + str(max(allratesdict['Rate']))\n",
    "print \"Min Rate: \" + str(min(allratesdict['Rate']))\n",
    "print \"Max Math Score: \" + str(max(allmathsdict['Math']))\n",
    "print \"Min Math Score: \" + str(min(allmathsdict['Math']))\n",
    "print \"Max Verbal Score: \" + str(max(allverbalsdict['Verbal']))\n",
    "print \"Min Verbal Score: \" + str(min(allverbalsdict['Verbal']))"
   ]
  },
  {
   "cell_type": "markdown",
   "metadata": {},
   "source": [
    "##### 13. Write a function using only list comprehensions, no loops, to compute Standard Deviation. Print the Standard Deviation of each numeric column."
   ]
  },
  {
   "cell_type": "code",
   "execution_count": 65,
   "metadata": {
    "collapsed": false
   },
   "outputs": [],
   "source": [
    "def stddev(listinput):\n",
    "    mean = sum([i for i in listinput])/(len(listinput))\n",
    "    stddev = ((sum([(mean - i)**2 for i in listinput]))/float(len(listinput)))**0.5\n",
    "    return stddev\n"
   ]
  },
  {
   "cell_type": "markdown",
   "metadata": {},
   "source": [
    "## Step 4: Visualize the data"
   ]
  },
  {
   "cell_type": "markdown",
   "metadata": {
    "collapsed": true
   },
   "source": [
    "##### 14. Using MatPlotLib and PyPlot, plot the distribution of the Rate using histograms."
   ]
  },
  {
   "cell_type": "code",
   "execution_count": 66,
   "metadata": {
    "collapsed": false
   },
   "outputs": [
    {
     "data": {
      "image/png": "[encoded data removed]",
      "text/plain": [
       "<matplotlib.figure.Figure at 0x11b207fd0>"
      ]
     },
     "metadata": {},
     "output_type": "display_data"
    }
   ],
   "source": [
    "plt.hist(allrateslist)\n",
    "plt.title(\"Rate Histogram\")\n",
    "plt.xlabel(\"Rate\")\n",
    "plt.ylabel(\"Frequency\")\n",
    "fig = plt.gcf()\n",
    "\n",
    "\n"
   ]
  },
  {
   "cell_type": "markdown",
   "metadata": {},
   "source": [
    "##### 15. Plot the Math distribution"
   ]
  },
  {
   "cell_type": "code",
   "execution_count": 67,
   "metadata": {
    "collapsed": false
   },
   "outputs": [
    {
     "data": {
      "image/png": "[encoded data removed]",
      "text/plain": [
       "<matplotlib.figure.Figure at 0x11b3430d0>"
      ]
     },
     "metadata": {},
     "output_type": "display_data"
    }
   ],
   "source": [
    "plt.hist(allmathslist)\n",
    "plt.title(\"Math Histogram\")\n",
    "plt.xlabel(\"Math Score\")\n",
    "plt.ylabel(\"Frequency\")\n",
    "fig = plt.gcf()\n",
    "\n"
   ]
  },
  {
   "cell_type": "markdown",
   "metadata": {},
   "source": [
    "##### 16. Plot the Verbal distribution"
   ]
  },
  {
   "cell_type": "code",
   "execution_count": 68,
   "metadata": {
    "collapsed": false
   },
   "outputs": [
    {
     "data": {
      "image/png": "[encoded data removed]",
      "text/plain": [
       "<matplotlib.figure.Figure at 0x11b343890>"
      ]
     },
     "metadata": {},
     "output_type": "display_data"
    }
   ],
   "source": [
    "plt.hist(allverbalslist)\n",
    "plt.title(\"Verbal Histogram\")\n",
    "plt.xlabel(\"Verbal Score\")\n",
    "plt.ylabel(\"Frequency\")\n",
    "fig = plt.gcf()\n",
    "\n"
   ]
  },
  {
   "cell_type": "markdown",
   "metadata": {},
   "source": [
    "##### 17. What is the typical assumption for data distribution?"
   ]
  },
  {
   "cell_type": "markdown",
   "metadata": {
    "collapsed": false
   },
   "source": [
    "Typcial assumption is that a normal \"gaussian\" curve would be expected.\n"
   ]
  },
  {
   "cell_type": "markdown",
   "metadata": {},
   "source": [
    "##### 18. Does that distribution hold true for our data?"
   ]
  },
  {
   "cell_type": "markdown",
   "metadata": {
    "collapsed": false
   },
   "source": [
    "It holds generally true for Math scores -- but not rate or Verbal scores."
   ]
  },
  {
   "cell_type": "markdown",
   "metadata": {},
   "source": [
    "##### 19. Plot some scatterplots. **BONUS**: Use a PyPlot `figure` to present multiple plots at once."
   ]
  },
  {
   "cell_type": "code",
   "execution_count": 98,
   "metadata": {
    "collapsed": false
   },
   "outputs": [
    {
     "data": {
      "image/png": "[encoded data removed]",
      "text/plain": [
       "<matplotlib.figure.Figure at 0x11b15dfd0>"
      ]
     },
     "metadata": {},
     "output_type": "display_data"
    },
    {
     "data": {
      "image/png": "[encoded data removed]",
      "text/plain": [
       "<matplotlib.figure.Figure at 0x11a051750>"
      ]
     },
     "metadata": {},
     "output_type": "display_data"
    },
    {
     "data": {
      "image/png": "[encoded data removed]",
      "text/plain": [
       "<matplotlib.figure.Figure at 0x11c2a8f10>"
      ]
     },
     "metadata": {},
     "output_type": "display_data"
    }
   ],
   "source": [
    "plt.figure(figsize=(10,8))\n",
    "plt.scatter(allmathslist,\n",
    "            allverbalslist,\n",
    "            marker='o',\n",
    "            color='r',\n",
    "            alpha=0.7,\n",
    "            s = 124,)\n",
    "plt.title('Math Score vs. Verbal Score')\n",
    "plt.ylabel('Verbal Score')\n",
    "plt.xlabel('Math Score')\n",
    "plt.xlim(400,650)\n",
    "plt.ylim(400,650)\n",
    "plt.show()\n",
    "            \n",
    "            \n",
    "totalscore = [a+b for a,b in zip(allmathslist,allverbalslist)]\n",
    "plt.figure(figsize=(10,8))\n",
    "plt.scatter(allrateslist,\n",
    "            totalscore,\n",
    "            marker='o',\n",
    "            color='r',\n",
    "            alpha=0.7,\n",
    "            s = 124,)\n",
    "plt.title('Participation Rate vs. Total Score')\n",
    "plt.ylabel('Total Score')\n",
    "plt.xlabel('Rate')\n",
    "plt.xlim(0,100)\n",
    "plt.ylim(900,1250)\n",
    "plt.show()\n",
    "\n",
    "\n",
    "plt.figure(figsize=(10,8))\n",
    "plt.scatter(allrateslist,\n",
    "            allmathslist,\n",
    "            marker='o',\n",
    "            color='r',\n",
    "            alpha=0.7,\n",
    "            s = 124,\n",
    "            label='Math Score')\n",
    "\n",
    "plt.scatter(allrateslist,\n",
    "            allverbalslist,\n",
    "            marker='^',\n",
    "            color='g',\n",
    "            alpha=0.7,\n",
    "            s = 124,\n",
    "            label='Verbal Score')\n",
    "plt.title('Participation vs Math/Verbal Score ')\n",
    "plt.ylabel('Score')\n",
    "plt.xlabel('Rate')\n",
    "plt.xlim(0,100)\n",
    "plt.ylim(450,650)\n",
    "plt.legend(loc='upper right')\n",
    "plt.show()"
   ]
  },
  {
   "cell_type": "markdown",
   "metadata": {},
   "source": [
    "##### 20. Are there any interesting relationships to note?"
   ]
  },
  {
   "cell_type": "markdown",
   "metadata": {
    "collapsed": false
   },
   "source": [
    "1) There is a strong relationship between a state's average math score and a state's average verbal score. Each state performs similarly well in both categories.\n",
    "\n",
    "2) Total score goes down with increased participation until approx. 50% participation. This makes sense as states with low participation likely have fewer schools that require it -- meaning only students that want to take it (and probably studying) are taking the test.\n",
    "\n"
   ]
  },
  {
   "cell_type": "markdown",
   "metadata": {},
   "source": [
    "##### 21. Create box plots for each variable. "
   ]
  },
  {
   "cell_type": "code",
   "execution_count": 104,
   "metadata": {
    "collapsed": false
   },
   "outputs": [
    {
     "data": {
      "text/plain": [
       "{'boxes': [<matplotlib.lines.Line2D at 0x11b2de6d0>],\n",
       " 'caps': [<matplotlib.lines.Line2D at 0x11beeedd0>,\n",
       "  <matplotlib.lines.Line2D at 0x11bf2fd10>],\n",
       " 'fliers': [<matplotlib.lines.Line2D at 0x119b556d0>],\n",
       " 'means': [],\n",
       " 'medians': [<matplotlib.lines.Line2D at 0x11bf2f450>],\n",
       " 'whiskers': [<matplotlib.lines.Line2D at 0x11beeec90>,\n",
       "  <matplotlib.lines.Line2D at 0x11beee290>]}"
      ]
     },
     "execution_count": 104,
     "metadata": {},
     "output_type": "execute_result"
    },
    {
     "data": {
      "image/png": "[encoded data removed]",
      "text/plain": [
       "<matplotlib.figure.Figure at 0x11c142550>"
      ]
     },
     "metadata": {},
     "output_type": "display_data"
    },
    {
     "data": {
      "image/png": "[encoded data removed]",
      "text/plain": [
       "<matplotlib.figure.Figure at 0x11b3cb2d0>"
      ]
     },
     "metadata": {},
     "output_type": "display_data"
    },
    {
     "data": {
      "image/png": "[encoded data removed]",
      "text/plain": [
       "<matplotlib.figure.Figure at 0x11b26c610>"
      ]
     },
     "metadata": {},
     "output_type": "display_data"
    }
   ],
   "source": [
    "plt.figure()\n",
    "plt.title('Rate Box Plot')\n",
    "plt.ylabel('Score')\n",
    "plt.xlabel('Rate')\n",
    "plt.boxplot(allrateslist)\n",
    "\n",
    "\n",
    "plt.figure()\n",
    "plt.title('Math Score Box Plot')\n",
    "plt.ylabel('Score')\n",
    "plt.xlabel('Rate')\n",
    "plt.boxplot(allmathslist)\n",
    "\n",
    "\n",
    "plt.figure()\n",
    "plt.title('Verbal Score Box Plot')\n",
    "plt.ylabel('Score')\n",
    "plt.xlabel('Rate')\n",
    "plt.boxplot(allverbalslist)\n"
   ]
  },
  {
   "cell_type": "markdown",
   "metadata": {},
   "source": [
    "##### BONUS: Using Tableau, create a heat map for each variable using a map of the US. "
   ]
  },
  {
   "cell_type": "code",
   "execution_count": null,
   "metadata": {
    "collapsed": true
   },
   "outputs": [],
   "source": []
  }
 ],
 "metadata": {
  "kernelspec": {
   "display_name": "Python 2",
   "language": "python",
   "name": "python2"
  },
  "language_info": {
   "codemirror_mode": {
    "name": "ipython",
    "version": 2
   },
   "file_extension": ".py",
   "mimetype": "text/x-python",
   "name": "python",
   "nbconvert_exporter": "python",
   "pygments_lexer": "ipython2",
   "version": "2.7.11"
  }
 },
 "nbformat": 4,
 "nbformat_minor": 0
}
