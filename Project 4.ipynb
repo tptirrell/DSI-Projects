{
 "cells": [
  {
   "cell_type": "markdown",
   "metadata": {
    "focus": false,
    "id": "69b9a648-bcc7-490d-9f9b-ea244d156bd6"
   },
   "source": [
    "# Web Scraping for Indeed.com & Predicting Salaries"
   ]
  },
  {
   "cell_type": "markdown",
   "metadata": {
    "focus": false,
    "id": "34681254-c802-462f-829d-8894d0772d08"
   },
   "source": [
    "In this project, we will practice two major skills: collecting data by scraping a website and then building a binary predictor with Logistic Regression.\n",
    "\n",
    "We are going to collect salary information on data science jobs in a variety of markets. Then using the location, title and summary of the job we will attempt to predict the salary of the job. For job posting sites, this would be extraordinarily useful. While most listings DO NOT come with salary information (as you will see in this exercise), being to able extrapolate or predict the expected salaries from other listings can help guide negotiations.\n",
    "\n",
    "Normally, we could use regression for this task; however, we will convert this problem into classification and use Logistic Regression.\n",
    "\n",
    "- Question: Why would we want this to be a classification problem?\n",
    "- Answer: While more precision may be better, there is a fair amount of natural variance in job salaries - predicting a range be may be useful.\n",
    "\n",
    "Therefore, the first part of the assignment will be focused on scraping Indeed.com. In the second, we'll focus on using listings with salary information to build a model and predict additional salaries."
   ]
  },
  {
   "cell_type": "markdown",
   "metadata": {
    "focus": false,
    "id": "a948d79c-5527-4c0d-ab23-f5d43ce72056"
   },
   "source": [
    "### Scraping job listings from Indeed.com"
   ]
  },
  {
   "cell_type": "markdown",
   "metadata": {
    "focus": true,
    "id": "7203e0c9-e437-4802-a6ad-7dc464f94436"
   },
   "source": [
    "We will be scraping job listings from Indeed.com using BeautifulSoup. Luckily, Indeed.com is a simple text page where we can easily find relevant entries.\n",
    "\n",
    "First, look at the source of an Indeed.com page: (http://www.indeed.com/jobs?q=data+scientist+%2420%2C000&l=New+York&start=10\")\n",
    "\n",
    "Notice, each job listing is underneath a `div` tag with a class name of `result`. We can use BeautifulSoup to extract those. "
   ]
  },
  {
   "cell_type": "markdown",
   "metadata": {
    "focus": false,
    "id": "9732c901-ae26-4160-8376-42e22dd327df"
   },
   "source": [
    "#### Setup a request (using `requests`) to the URL below. Use BeautifulSoup to parse the page and extract all results (HINT: Look for div tags with class name result)"
   ]
  },
  {
   "cell_type": "code",
   "execution_count": 1,
   "metadata": {
    "collapsed": false,
    "focus": false,
    "id": "e915023e-6b0d-4982-af2a-b1e0355f4927"
   },
   "outputs": [],
   "source": [
    "url = 'http://www.indeed.com/jobs?q=data+scientist&l=nyc&start=10'"
   ]
  },
  {
   "cell_type": "code",
   "execution_count": 2,
   "metadata": {
    "collapsed": false,
    "focus": false,
    "id": "2efefc73-064a-482d-b3b5-ddf5508cb4ec"
   },
   "outputs": [],
   "source": [
    "import pandas as pd\n",
    "import numpy as np\n",
    "import matplotlib as plt\n",
    "import requests\n",
    "import bs4\n",
    "%matplotlib inline\n",
    "import matplotlib.pyplot as plt\n",
    "from bs4 import BeautifulSoup\n",
    "from sklearn.linear_model import LogisticRegression\n",
    "from sklearn import datasets\n",
    "import statsmodels.api as sm\n",
    "from sklearn.metrics import classification_report, confusion_matrix, accuracy_score\n",
    "from sklearn.cross_validation import train_test_split, cross_val_score\n",
    "from sklearn.linear_model import LogisticRegression\n",
    "from sklearn.linear_model import LogisticRegressionCV\n",
    "from sklearn.grid_search import GridSearchCV"
   ]
  },
  {
   "cell_type": "code",
   "execution_count": 3,
   "metadata": {
    "collapsed": false,
    "focus": false,
    "id": "2c6752c4-7704-4c94-8bc0-6f13d2d0d570"
   },
   "outputs": [],
   "source": [
    "r = requests.get(url)\n",
    "soup = BeautifulSoup(r.content, \"lxml\")"
   ]
  },
  {
   "cell_type": "markdown",
   "metadata": {
    "focus": false,
    "id": "bb0b866a-26a7-45e9-8084-5a0f90eb4b3e"
   },
   "source": [
    "Let's look at one result more closely. A single `result` looks like\n",
    "\n",
    "```\n",
    "<div class=\" row result\" data-jk=\"2480d203f7e97210\" data-tn-component=\"organicJob\" id=\"p_2480d203f7e97210\" itemscope=\"\" itemtype=\"http://schema.org/JobPosting\">\n",
    "<h2 class=\"jobtitle\" id=\"jl_2480d203f7e97210\">\n",
    "<a class=\"turnstileLink\" data-tn-element=\"jobTitle\" onmousedown=\"return rclk(this,jobmap[0],1);\" rel=\"nofollow\" target=\"_blank\" title=\"AVP/Quantitative Analyst\">AVP/Quantitative Analyst</a>\n",
    "</h2>\n",
    "<span class=\"company\" itemprop=\"hiringOrganization\" itemtype=\"http://schema.org/Organization\">\n",
    "<span itemprop=\"name\">\n",
    "<a href=\"/cmp/Alliancebernstein?from=SERP&amp;campaignid=serp-linkcompanyname&amp;fromjk=2480d203f7e97210&amp;jcid=b374f2a780e04789\" target=\"_blank\">\n",
    "    AllianceBernstein</a></span>\n",
    "</span>\n",
    "<tr>\n",
    "<td class=\"snip\">\n",
    "<nobr>$117,500 - $127,500 a year</nobr>\n",
    "<div>\n",
    "<span class=\"summary\" itemprop=\"description\">\n",
    "C onduct quantitative and statistical research as well as portfolio management for various investment portfolios. Collaborate with Quantitative Analysts and</span>\n",
    "</div>\n",
    "</div>\n",
    "</td>\n",
    "</tr>\n",
    "</table>\n",
    "</div>\n",
    "```\n",
    "\n",
    "While this has some more verbose elements removed, we can see that there is some structure to the above:\n",
    "- The salary is available in a `nobr` element inside of a `td` element with `class='snip`.\n",
    "- The title of a job is in a link with class set to `jobtitle` and a `data-tn-element=\"jobTitle`.  \n",
    "- The location is set in a `span` with `class='location'`. \n",
    "- The company is set in a `span` with `class='company'`. "
   ]
  },
  {
   "cell_type": "markdown",
   "metadata": {
    "focus": false,
    "id": "f1eddb90-4ba8-483c-a229-77e93aa53119"
   },
   "source": [
    "### Write 4 functions to extract each item: location, company, job, and salary.\n",
    "\n",
    "example: \n",
    "```python\n",
    "def extract_location_from_result(result):\n",
    "    return result.find ...\n",
    "```\n",
    "\n",
    "\n",
    "- Make sure these functions are robust and can handle cases where the data/field may not be available.\n",
    "- Test the functions on the results above"
   ]
  },
  {
   "cell_type": "code",
   "execution_count": 4,
   "metadata": {
    "collapsed": false,
    "focus": false,
    "id": "a1af53c9-9090-494f-b82e-cadb60a54909"
   },
   "outputs": [],
   "source": [
    "#This function scrapes the location from the given url\n",
    "\n",
    "def location(soupy):\n",
    "    loc = soupy.findAll(class_='location')\n",
    "\n",
    "    locations = []\n",
    "    for i in loc:\n",
    "        try:\n",
    "            locations.append(i.text)\n",
    "        except:\n",
    "            locations.append(np.nan)\n",
    "    return locations\n",
    "\n",
    "locations = location(soup)"
   ]
  },
  {
   "cell_type": "code",
   "execution_count": 5,
   "metadata": {
    "collapsed": false
   },
   "outputs": [],
   "source": [
    "#This function scrapes the company name from the given url\n",
    "\n",
    "def company(soupy):\n",
    "    company = soupy.findAll(class_='company')\n",
    "    companies = []\n",
    "    for i in company:\n",
    "        try:\n",
    "            companies.append(i.text.strip().encode('ascii','ignore'))\n",
    "        except:\n",
    "            companies.append(np.nan)\n",
    "    return companies\n",
    "\n",
    "companies = company(soup)"
   ]
  },
  {
   "cell_type": "code",
   "execution_count": 6,
   "metadata": {
    "collapsed": false
   },
   "outputs": [],
   "source": [
    "#This function scrapes the location from the given url\n",
    "\n",
    "def job(soupy):\n",
    "    title = soupy.findAll(class_='jobtitle')\n",
    "    titles = []\n",
    "    for i in title:\n",
    "        try:\n",
    "            titles.append(i.text.strip().encode('ascii','ignore'))\n",
    "        except:\n",
    "            titles.append(np.nan)\n",
    "    return titles\n",
    "    \n",
    "titles = job(soup)"
   ]
  },
  {
   "cell_type": "code",
   "execution_count": 7,
   "metadata": {
    "collapsed": false
   },
   "outputs": [],
   "source": [
    "#This function scrapes the salary from the given url\n",
    "\n",
    "def salary(soupy):\n",
    "    salary = soupy.findAll('nobr' or 'sjcl')\n",
    "    salaries = []\n",
    "    for i in salary:\n",
    "        try:\n",
    "            salaries.append(i.get_text().strip().encode('ascii','ignore'))\n",
    "        except:\n",
    "            salaries.append(np.nan)\n",
    "    return salaries\n",
    "\n",
    "salaries = salary(soup)"
   ]
  },
  {
   "cell_type": "code",
   "execution_count": 54,
   "metadata": {
    "collapsed": false
   },
   "outputs": [
    {
     "data": {
      "text/html": [
       "<div>\n",
       "<table border=\"1\" class=\"dataframe\">\n",
       "  <thead>\n",
       "    <tr style=\"text-align: right;\">\n",
       "      <th></th>\n",
       "      <th>title</th>\n",
       "      <th>company</th>\n",
       "      <th>locations</th>\n",
       "      <th>salary</th>\n",
       "    </tr>\n",
       "  </thead>\n",
       "  <tbody>\n",
       "    <tr>\n",
       "      <th>0</th>\n",
       "      <td>Junior Data Scientist</td>\n",
       "      <td>UncommonGoods</td>\n",
       "      <td>New York, NY</td>\n",
       "      <td>relevance -\\n            date</td>\n",
       "    </tr>\n",
       "    <tr>\n",
       "      <th>1</th>\n",
       "      <td>Data Scientist  Predictive Analytics</td>\n",
       "      <td>Gallup</td>\n",
       "      <td>New York, NY</td>\n",
       "      <td>$800 a day</td>\n",
       "    </tr>\n",
       "    <tr>\n",
       "      <th>2</th>\n",
       "      <td>Data Scientist &amp; Analytics Developer</td>\n",
       "      <td>Lancer Insurance Company</td>\n",
       "      <td>Long Beach, NY</td>\n",
       "      <td>About</td>\n",
       "    </tr>\n",
       "    <tr>\n",
       "      <th>3</th>\n",
       "      <td>Data Scientist</td>\n",
       "      <td>Brilliant Leap</td>\n",
       "      <td>New York, NY</td>\n",
       "      <td>None</td>\n",
       "    </tr>\n",
       "    <tr>\n",
       "      <th>4</th>\n",
       "      <td>Research Associate, R&amp;D</td>\n",
       "      <td>Stemline Therapeutics, Inc.</td>\n",
       "      <td>New York, NY 10022 (Midtown area)</td>\n",
       "      <td>None</td>\n",
       "    </tr>\n",
       "  </tbody>\n",
       "</table>\n",
       "</div>"
      ],
      "text/plain": [
       "                                  title                      company  \\\n",
       "0                 Junior Data Scientist                UncommonGoods   \n",
       "1  Data Scientist  Predictive Analytics                       Gallup   \n",
       "2  Data Scientist & Analytics Developer     Lancer Insurance Company   \n",
       "3                        Data Scientist               Brilliant Leap   \n",
       "4               Research Associate, R&D  Stemline Therapeutics, Inc.   \n",
       "\n",
       "                           locations                         salary  \n",
       "0                       New York, NY  relevance -\\n            date  \n",
       "1                       New York, NY                     $800 a day  \n",
       "2                     Long Beach, NY                          About  \n",
       "3                       New York, NY                           None  \n",
       "4  New York, NY 10022 (Midtown area)                           None  "
      ]
     },
     "execution_count": 54,
     "metadata": {},
     "output_type": "execute_result"
    }
   ],
   "source": [
    "#Adds the pulled data into a dataframe\n",
    "\n",
    "df = pd.DataFrame([titles, companies, locations, salaries]).T\n",
    "df.columns = ['title', 'company', 'locations','salary']\n",
    "df.head()"
   ]
  },
  {
   "cell_type": "markdown",
   "metadata": {
    "focus": false,
    "id": "34070e89-9521-4b45-90c8-57a6599aac68"
   },
   "source": [
    "Now, to scale up our scraping, we need to accumulate more results. We can do this by examining the URL above.\n",
    "\n",
    "- \"http://www.indeed.com/jobs?q=data+scientist+%2420%2C000&l=New+York&start=10\"\n",
    "\n",
    "There are two query parameters here we can alter to collect more results, the `l=New+York` and the `start=10`. The first controls the location of the results (so we can try a different city). The second controls where in the results to start and gives 10 results (thus, we can keep incrementing by 10 to go further in the list)."
   ]
  },
  {
   "cell_type": "markdown",
   "metadata": {
    "focus": false,
    "id": "e8beed7c-3e42-40c0-810f-5f67f8f885a0"
   },
   "source": [
    "#### Complete the following code to collect results from multiple cities and starting points. \n",
    "- Enter your city below to add it to the search\n",
    "- Remember to convert your salary to U.S. Dollars to match the other cities if the currency is different"
   ]
  },
  {
   "cell_type": "code",
   "execution_count": 55,
   "metadata": {
    "collapsed": false,
    "focus": false,
    "id": "04b0f9af-540e-402f-8292-81748707c676"
   },
   "outputs": [],
   "source": [
    "#cycles through each of the cities listed and the results pages pulling the job data and appending to results\n",
    "\n",
    "url_template = 'http://www.indeed.com/jobs?q=data+scientist&l={}&start={}'\n",
    "\n",
    "max_results_per_city = 500\n",
    "\n",
    "results = [[],[],[],[]]\n",
    "\n",
    "for city in set(['New+York', 'Chicago', 'San+Francisco', 'Austin', 'Miami', 'Atlanta','Los+Angeles', 'Chicago'\\\n",
    "                 'Houston','Seattle','Phoenix','Houston','San+Diego']):\n",
    "    for start in range(0, max_results_per_city, 10):\n",
    "        response = requests.get(url_template.format(city,start))\n",
    "        page = response.text\n",
    "        soup = BeautifulSoup(page,'lxml')\n",
    "        results[0].extend(location(soup))\n",
    "        results[1].extend(company(soup))\n",
    "        results[2].extend(job(soup))\n",
    "        results[3].extend(salary(soup))\n",
    "        pass\n",
    "\n",
    "#reduce(lambda x, y: x.extend(y), results)\n"
   ]
  },
  {
   "cell_type": "markdown",
   "metadata": {
    "focus": false,
    "id": "20339c09-5032-4e27-91be-286e9b46cd13"
   },
   "source": [
    "#### Use the functions you wrote above to parse out the 4 fields - location, title, company and salary. Create a dataframe from the results with those 4 columns."
   ]
  },
  {
   "cell_type": "code",
   "execution_count": 56,
   "metadata": {
    "collapsed": false,
    "focus": false,
    "id": "6e259594-1c52-436b-ab9e-527e071941c1"
   },
   "outputs": [
    {
     "data": {
      "text/html": [
       "<div>\n",
       "<table border=\"1\" class=\"dataframe\">\n",
       "  <thead>\n",
       "    <tr style=\"text-align: right;\">\n",
       "      <th></th>\n",
       "      <th>title</th>\n",
       "      <th>company</th>\n",
       "      <th>location</th>\n",
       "      <th>salary</th>\n",
       "    </tr>\n",
       "  </thead>\n",
       "  <tbody>\n",
       "    <tr>\n",
       "      <th>0</th>\n",
       "      <td>Computational Scientist</td>\n",
       "      <td>MD ANDERSON CANCER CENTER</td>\n",
       "      <td>Houston, TX</td>\n",
       "      <td>relevance -\\n            date</td>\n",
       "    </tr>\n",
       "    <tr>\n",
       "      <th>1</th>\n",
       "      <td>Machine Learning Expert</td>\n",
       "      <td>Arundo Analytics</td>\n",
       "      <td>Houston, TX</td>\n",
       "      <td>About</td>\n",
       "    </tr>\n",
       "    <tr>\n",
       "      <th>2</th>\n",
       "      <td>Quantitative Marketing Analyst</td>\n",
       "      <td>Numeric Jobs</td>\n",
       "      <td>Houston, TX</td>\n",
       "      <td>relevance -\\n            date</td>\n",
       "    </tr>\n",
       "    <tr>\n",
       "      <th>3</th>\n",
       "      <td>Data Scientist</td>\n",
       "      <td>Panton</td>\n",
       "      <td>Houston, TX</td>\n",
       "      <td>$160,000 a year</td>\n",
       "    </tr>\n",
       "    <tr>\n",
       "      <th>4</th>\n",
       "      <td>Senior Data Scientist</td>\n",
       "      <td>Shell</td>\n",
       "      <td>Houston, TX</td>\n",
       "      <td>About</td>\n",
       "    </tr>\n",
       "  </tbody>\n",
       "</table>\n",
       "</div>"
      ],
      "text/plain": [
       "                            title                    company     location  \\\n",
       "0         Computational Scientist  MD ANDERSON CANCER CENTER  Houston, TX   \n",
       "1         Machine Learning Expert           Arundo Analytics  Houston, TX   \n",
       "2  Quantitative Marketing Analyst               Numeric Jobs  Houston, TX   \n",
       "3                  Data Scientist                     Panton  Houston, TX   \n",
       "4           Senior Data Scientist                      Shell  Houston, TX   \n",
       "\n",
       "                          salary  \n",
       "0  relevance -\\n            date  \n",
       "1                          About  \n",
       "2  relevance -\\n            date  \n",
       "3                $160,000 a year  \n",
       "4                          About  "
      ]
     },
     "execution_count": 56,
     "metadata": {},
     "output_type": "execute_result"
    }
   ],
   "source": [
    "#creates dataframe df with all of the results for each city\n",
    "\n",
    "df = pd.DataFrame([results[2], results[1], results[0], results[3]]).T\n",
    "df.columns = ['title', 'company', 'location','salary']\n",
    "df.head()"
   ]
  },
  {
   "cell_type": "markdown",
   "metadata": {
    "focus": false,
    "id": "ff98ce64-78a7-441f-a675-63464e32c834"
   },
   "source": [
    "Lastly, we need to clean up salary data. \n",
    "1. Some of the salaries are not yearly but hourly, these will be useful to us for now\n",
    "2. The salaries are given as text and usually with ranges.\n",
    "\n",
    "#### Filter out the salaries that are not yearly (filter those that refer to hour)"
   ]
  },
  {
   "cell_type": "code",
   "execution_count": 57,
   "metadata": {
    "collapsed": false,
    "focus": false,
    "id": "58533e57-f86b-494a-b841-e7b59c6229c6"
   },
   "outputs": [
    {
     "data": {
      "text/plain": [
       "array(['nan', '$160,000 a year', '$49,506 a year', '$70,000 a year',\n",
       "       '$93,431 a year', '$51,600 - $77,400 a year',\n",
       "       '$60,000 - $75,000 a year', '$54,590 a year',\n",
       "       '$28,909 - $36,000 a year', '$67,632 a year',\n",
       "       '$60,000 - $95,000 a year', '$85,000 - $115,000 a year',\n",
       "       '$90,000 - $100,000 a year', '$48,000 a year',\n",
       "       '$50,000 - $55,000 a year', '$105,000 a year', '$71,000 a year',\n",
       "       '$115,000 - $150,000 a year', '$80,000 - $110,000 a year',\n",
       "       '$110,000 - $200,000 a year', '$125,000 a year', '$85,000 a year',\n",
       "       '$95,000 a year', '$138,300 a year', '$140,000 a year',\n",
       "       '$145,000 a year', '$150,000 a year', '$110,000 - $160,000 a year',\n",
       "       '$80,000 - $100,000 a year', '$185,000 a year',\n",
       "       '$50,000 - $60,000 a year', '$100,000 - $120,000 a year',\n",
       "       '$100,000 - $140,000 a year', '$150,000 - $200,000 a year',\n",
       "       '$120,000 a year', '$110,000 - $150,000 a year',\n",
       "       '$70,000 - $110,000 a year', '$165,000 a year',\n",
       "       '$125,000 - $150,000 a year', '$180,000 a year',\n",
       "       '$75,000 - $95,000 a year', '$130,000 a year',\n",
       "       '$120,000 - $155,000 a year', '$170,000 a year',\n",
       "       '$65,000 - $90,000 a year', '$60,000 - $120,000 a year',\n",
       "       '$110,000 a year', '$80,000 - $120,000 a year',\n",
       "       '$150,000 - $180,000 a year', '$110,000 - $180,000 a year',\n",
       "       '$140,000 - $160,000 a year', '$130,000 - $170,000 a year',\n",
       "       '$150,000 - $170,000 a year', '$100,000 - $150,000 a year',\n",
       "       '$125,000 - $135,000 a year', '$72,364 - $96,934 a year',\n",
       "       '$200,000 a year', '$165,000 - $195,000 a year',\n",
       "       '$120,000 - $150,000 a year', '$120,000 - $165,000 a year',\n",
       "       '$80,000 - $200,000 a year', '$130,000 - $150,000 a year',\n",
       "       '$115,000 - $145,000 a year', '$61,848 - $64,920 a year',\n",
       "       '$130,000 - $155,000 a year', '$170,000 - $200,000 a year',\n",
       "       '$100,000 - $200,000 a year', '$45,000 a year', '$135,000 a year',\n",
       "       '$75,000 - $100,000 a year', '$50,000 a year',\n",
       "       '$150,000 - $250,000 a year', '$60,000 - $90,000 a year',\n",
       "       '$150,000 - $300,000 a year', '$68,239 - $85,644 a year',\n",
       "       '$200,000 - $300,000 a year', '$150,000 - $240,000 a year',\n",
       "       '$61,031 - $85,000 a year', '$75,000 a year', '$90,000 a year',\n",
       "       '$53,875 a year', '$85,000 - $97,000 a year',\n",
       "       '$24,000 - $56,000 a year', '$70,000 - $80,000 a year',\n",
       "       '$115,000 - $200,000 a year', '$180,000 - $250,000 a year',\n",
       "       '$90,000 - $130,000 a year', '$28,000 - $40,000 a year',\n",
       "       '$74,566 - $97,794 a year', '$55,603 - $69,075 a year',\n",
       "       '$87,955 - $115,354 a year', '$71,152 - $83,721 a year',\n",
       "       '$160,000 - $180,000 a year', '$63,772 - $99,296 a year',\n",
       "       '$60,000 a year', '$120,000 - $160,000 a year', '$53,900 a year',\n",
       "       '$32,900 a year', '$55,000 - $65,000 a year',\n",
       "       '$38,750 - $62,000 a year', '$95,000 - $105,000 a year',\n",
       "       '$100,000 - $115,000 a year', '$41,600 a year',\n",
       "       '$55,000 - $85,000 a year', '$68,137 - $106,600 a year',\n",
       "       '$70,000 - $81,000 a year', '$57,000 - $78,375 a year',\n",
       "       '$130,000 - $160,000 a year', '$74,260 - $114,802 a year',\n",
       "       '$61,956 - $96,538 a year', '$100,000 a year',\n",
       "       '$36,000 - $46,000 a year', '$50,794 a year',\n",
       "       '$122,744 - $159,572 a year', '$60,000 - $70,000 a year',\n",
       "       '$54,182 a year', '$175,000 - $250,000 a year',\n",
       "       '$65,000 - $110,000 a year', '$88,305 - $114,802 a year',\n",
       "       '$55,000 a year', '$80,000 a year', '$30,000 - $39,999 a year',\n",
       "       '$150,000 - $230,000 a year', '$80,000 - $85,000 a year',\n",
       "       '$110,000 - $130,000 a year', '$40,000 a year',\n",
       "       '$100,000 - $170,000 a year', '$61,920 - $81,264 a year',\n",
       "       '$70,000 - $100,000 a year', '$65,000 a year',\n",
       "       '$37,000 - $45,000 a year'], dtype=object)"
      ]
     },
     "execution_count": 57,
     "metadata": {},
     "output_type": "execute_result"
    }
   ],
   "source": [
    "#cleans salary data by turning alpha strings to nans and dropping any salaries not in annual terms\n",
    "\n",
    "def salarydrop(value):\n",
    "    c=0\n",
    "    #value = value.encode('utf8')\n",
    "    value = value.split()\n",
    "    if 'relevance' in value: \n",
    "        return 'nan'\n",
    "    for i in value:\n",
    "        if i.isalpha() == True:\n",
    "            c+=1\n",
    "            if c == len(value):\n",
    "                return 'nan'\n",
    "            \n",
    "    todrop = ['hourly','hour', 'weekly','week','monthly','month','day','daily']\n",
    "    for i in todrop:\n",
    "        if i in value:\n",
    "            return 'drop'\n",
    "    return \" \".join(value)\n",
    "        \n",
    "    \n",
    "df['salary'] = df['salary'].astype(str)\n",
    "df['salary'] = df['salary'].to_frame().applymap(salarydrop)\n",
    "df = df[df['salary']!='drop']\n",
    "df.salary.unique()"
   ]
  },
  {
   "cell_type": "code",
   "execution_count": 58,
   "metadata": {
    "collapsed": false
   },
   "outputs": [
    {
     "data": {
      "text/html": [
       "<div>\n",
       "<table border=\"1\" class=\"dataframe\">\n",
       "  <thead>\n",
       "    <tr style=\"text-align: right;\">\n",
       "      <th></th>\n",
       "      <th>title</th>\n",
       "      <th>company</th>\n",
       "      <th>location</th>\n",
       "      <th>salary</th>\n",
       "    </tr>\n",
       "  </thead>\n",
       "  <tbody>\n",
       "    <tr>\n",
       "      <th>0</th>\n",
       "      <td>Computational Scientist</td>\n",
       "      <td>MD ANDERSON CANCER CENTER</td>\n",
       "      <td>Houston, TX</td>\n",
       "      <td>nan</td>\n",
       "    </tr>\n",
       "    <tr>\n",
       "      <th>1</th>\n",
       "      <td>Machine Learning Expert</td>\n",
       "      <td>Arundo Analytics</td>\n",
       "      <td>Houston, TX</td>\n",
       "      <td>nan</td>\n",
       "    </tr>\n",
       "    <tr>\n",
       "      <th>2</th>\n",
       "      <td>Quantitative Marketing Analyst</td>\n",
       "      <td>Numeric Jobs</td>\n",
       "      <td>Houston, TX</td>\n",
       "      <td>nan</td>\n",
       "    </tr>\n",
       "    <tr>\n",
       "      <th>3</th>\n",
       "      <td>Data Scientist</td>\n",
       "      <td>Panton</td>\n",
       "      <td>Houston, TX</td>\n",
       "      <td>$160,000 a year</td>\n",
       "    </tr>\n",
       "    <tr>\n",
       "      <th>4</th>\n",
       "      <td>Senior Data Scientist</td>\n",
       "      <td>Shell</td>\n",
       "      <td>Houston, TX</td>\n",
       "      <td>nan</td>\n",
       "    </tr>\n",
       "  </tbody>\n",
       "</table>\n",
       "</div>"
      ],
      "text/plain": [
       "                            title                    company     location  \\\n",
       "0         Computational Scientist  MD ANDERSON CANCER CENTER  Houston, TX   \n",
       "1         Machine Learning Expert           Arundo Analytics  Houston, TX   \n",
       "2  Quantitative Marketing Analyst               Numeric Jobs  Houston, TX   \n",
       "3                  Data Scientist                     Panton  Houston, TX   \n",
       "4           Senior Data Scientist                      Shell  Houston, TX   \n",
       "\n",
       "            salary  \n",
       "0              nan  \n",
       "1              nan  \n",
       "2              nan  \n",
       "3  $160,000 a year  \n",
       "4              nan  "
      ]
     },
     "execution_count": 58,
     "metadata": {},
     "output_type": "execute_result"
    }
   ],
   "source": [
    "df.head()"
   ]
  },
  {
   "cell_type": "markdown",
   "metadata": {
    "focus": false,
    "id": "7d4bc860-b214-4f75-9cd0-b234830b1ec2"
   },
   "source": [
    "#### Write a function that takes a salary string and converts it to a number, averaging a salary range if necessary"
   ]
  },
  {
   "cell_type": "code",
   "execution_count": 59,
   "metadata": {
    "collapsed": false,
    "focus": false,
    "id": "a0f701e0-80bd-40ba-9101-4535860c0968"
   },
   "outputs": [],
   "source": [
    "#removes the '$' from salary and returns a float. If salary is listed as range, the mean will be returned\n",
    "\n",
    "def salaryfix(value):\n",
    "    c=0\n",
    "    value = str(value)\n",
    "    if value.isalpha == True:\n",
    "        return value\n",
    "    if \"a year\" in value:\n",
    "        value = value[:-6]\n",
    "    if \"-\" in value:\n",
    "        value = value.split('-')\n",
    "        for nums in value:\n",
    "            value = salaryfix(nums)\n",
    "            c+=1\n",
    "            if c==1:\n",
    "                thesum=0\n",
    "            thesum += value\n",
    "        return thesum/2\n",
    "    value = str(value)\n",
    "    value = value.replace('$', '')\n",
    "    value = value.replace(',', '')\n",
    "    value = float(value)\n",
    "    return value\n",
    "\n",
    "df['salary'] = df['salary'].to_frame().applymap(salaryfix)"
   ]
  },
  {
   "cell_type": "code",
   "execution_count": 60,
   "metadata": {
    "collapsed": false
   },
   "outputs": [],
   "source": [
    "#this function removes any characters after the ',' in the city column\n",
    "\n",
    "def cityfix(value):\n",
    "    value = str(value)\n",
    "    value = value.split(',')\n",
    "    return value[0]\n",
    "\n",
    "df['location'] = df['location'].to_frame().applymap(cityfix)"
   ]
  },
  {
   "cell_type": "code",
   "execution_count": 61,
   "metadata": {
    "collapsed": false
   },
   "outputs": [
    {
     "data": {
      "text/html": [
       "<div>\n",
       "<table border=\"1\" class=\"dataframe\">\n",
       "  <thead>\n",
       "    <tr style=\"text-align: right;\">\n",
       "      <th></th>\n",
       "      <th>title</th>\n",
       "      <th>company</th>\n",
       "      <th>location</th>\n",
       "      <th>salary</th>\n",
       "    </tr>\n",
       "  </thead>\n",
       "  <tbody>\n",
       "    <tr>\n",
       "      <th>0</th>\n",
       "      <td>Computational Scientist</td>\n",
       "      <td>MD ANDERSON CANCER CENTER</td>\n",
       "      <td>Houston</td>\n",
       "      <td>NaN</td>\n",
       "    </tr>\n",
       "    <tr>\n",
       "      <th>1</th>\n",
       "      <td>Machine Learning Expert</td>\n",
       "      <td>Arundo Analytics</td>\n",
       "      <td>Houston</td>\n",
       "      <td>NaN</td>\n",
       "    </tr>\n",
       "    <tr>\n",
       "      <th>2</th>\n",
       "      <td>Quantitative Marketing Analyst</td>\n",
       "      <td>Numeric Jobs</td>\n",
       "      <td>Houston</td>\n",
       "      <td>NaN</td>\n",
       "    </tr>\n",
       "    <tr>\n",
       "      <th>3</th>\n",
       "      <td>Data Scientist</td>\n",
       "      <td>Panton</td>\n",
       "      <td>Houston</td>\n",
       "      <td>160000.0</td>\n",
       "    </tr>\n",
       "    <tr>\n",
       "      <th>4</th>\n",
       "      <td>Senior Data Scientist</td>\n",
       "      <td>Shell</td>\n",
       "      <td>Houston</td>\n",
       "      <td>NaN</td>\n",
       "    </tr>\n",
       "  </tbody>\n",
       "</table>\n",
       "</div>"
      ],
      "text/plain": [
       "                            title                    company location  \\\n",
       "0         Computational Scientist  MD ANDERSON CANCER CENTER  Houston   \n",
       "1         Machine Learning Expert           Arundo Analytics  Houston   \n",
       "2  Quantitative Marketing Analyst               Numeric Jobs  Houston   \n",
       "3                  Data Scientist                     Panton  Houston   \n",
       "4           Senior Data Scientist                      Shell  Houston   \n",
       "\n",
       "     salary  \n",
       "0       NaN  \n",
       "1       NaN  \n",
       "2       NaN  \n",
       "3  160000.0  \n",
       "4       NaN  "
      ]
     },
     "execution_count": 61,
     "metadata": {},
     "output_type": "execute_result"
    }
   ],
   "source": [
    "#removes any duplicate entries\n",
    "\n",
    "df = df.drop_duplicates()\n",
    "df.head()"
   ]
  },
  {
   "cell_type": "markdown",
   "metadata": {
    "collapsed": false,
    "focus": false,
    "id": "43e71edd-210e-42b1-9336-70a931f048af"
   },
   "source": [
    "### Save your results as a CSV"
   ]
  },
  {
   "cell_type": "code",
   "execution_count": 62,
   "metadata": {
    "collapsed": false,
    "focus": false,
    "id": "783fd153-28ac-47ab-bfca-27e7c1de95b4"
   },
   "outputs": [],
   "source": [
    "#df.to_csv('jobresults.csv')"
   ]
  },
  {
   "cell_type": "markdown",
   "metadata": {
    "focus": false,
    "id": "04563b69-f7b6-466f-9d65-fc62c9ddee6a"
   },
   "source": [
    "## Predicting salaries using Logistic Regression"
   ]
  },
  {
   "cell_type": "markdown",
   "metadata": {
    "focus": false,
    "id": "243e949e-2742-40af-872e-fec475fd306c"
   },
   "source": [
    "#### Load in the the data of scraped salaries"
   ]
  },
  {
   "cell_type": "code",
   "execution_count": 63,
   "metadata": {
    "collapsed": false,
    "focus": false,
    "id": "588f9845-6143-4bcc-bfd1-85d45b79303d"
   },
   "outputs": [],
   "source": [
    "df2 = pd.read_csv('jobresults.csv')"
   ]
  },
  {
   "cell_type": "markdown",
   "metadata": {
    "focus": false,
    "id": "c7631f51-07f2-4c79-a093-3e9bc7849a48"
   },
   "source": [
    "#### We want to predict a binary variable - whether the salary was low or high. Compute the median salary and create a new binary variable that is true when the salary is high (above the median)"
   ]
  },
  {
   "cell_type": "code",
   "execution_count": 64,
   "metadata": {
    "collapsed": false,
    "focus": false,
    "id": "c20d2498-151c-44c3-a453-3a333c79a0ac"
   },
   "outputs": [
    {
     "data": {
      "text/html": [
       "<div>\n",
       "<table border=\"1\" class=\"dataframe\">\n",
       "  <thead>\n",
       "    <tr style=\"text-align: right;\">\n",
       "      <th></th>\n",
       "      <th>title</th>\n",
       "      <th>company</th>\n",
       "      <th>location</th>\n",
       "      <th>salary</th>\n",
       "      <th>salaryhigh</th>\n",
       "    </tr>\n",
       "  </thead>\n",
       "  <tbody>\n",
       "    <tr>\n",
       "      <th>0</th>\n",
       "      <td>Computational Scientist</td>\n",
       "      <td>MD ANDERSON CANCER CENTER</td>\n",
       "      <td>Houston</td>\n",
       "      <td>NaN</td>\n",
       "      <td>False</td>\n",
       "    </tr>\n",
       "    <tr>\n",
       "      <th>1</th>\n",
       "      <td>Machine Learning Expert</td>\n",
       "      <td>Arundo Analytics</td>\n",
       "      <td>Houston</td>\n",
       "      <td>NaN</td>\n",
       "      <td>False</td>\n",
       "    </tr>\n",
       "    <tr>\n",
       "      <th>2</th>\n",
       "      <td>Quantitative Marketing Analyst</td>\n",
       "      <td>Numeric Jobs</td>\n",
       "      <td>Houston</td>\n",
       "      <td>NaN</td>\n",
       "      <td>False</td>\n",
       "    </tr>\n",
       "    <tr>\n",
       "      <th>3</th>\n",
       "      <td>Data Scientist</td>\n",
       "      <td>Panton</td>\n",
       "      <td>Houston</td>\n",
       "      <td>160000.0</td>\n",
       "      <td>True</td>\n",
       "    </tr>\n",
       "    <tr>\n",
       "      <th>4</th>\n",
       "      <td>Senior Data Scientist</td>\n",
       "      <td>Shell</td>\n",
       "      <td>Houston</td>\n",
       "      <td>NaN</td>\n",
       "      <td>False</td>\n",
       "    </tr>\n",
       "    <tr>\n",
       "      <th>5</th>\n",
       "      <td>Research Scientist</td>\n",
       "      <td>GeoControl Systems, Inc.</td>\n",
       "      <td>Houston</td>\n",
       "      <td>NaN</td>\n",
       "      <td>False</td>\n",
       "    </tr>\n",
       "    <tr>\n",
       "      <th>6</th>\n",
       "      <td>Marketing Data Scientist</td>\n",
       "      <td>Alert Logic</td>\n",
       "      <td>Houston</td>\n",
       "      <td>49506.0</td>\n",
       "      <td>False</td>\n",
       "    </tr>\n",
       "    <tr>\n",
       "      <th>7</th>\n",
       "      <td>Data Scientist - Houston</td>\n",
       "      <td>Amazon Web Services, Inc.</td>\n",
       "      <td>Houston</td>\n",
       "      <td>NaN</td>\n",
       "      <td>False</td>\n",
       "    </tr>\n",
       "    <tr>\n",
       "      <th>8</th>\n",
       "      <td>Data Scientist</td>\n",
       "      <td>IHS</td>\n",
       "      <td>Houston</td>\n",
       "      <td>NaN</td>\n",
       "      <td>False</td>\n",
       "    </tr>\n",
       "    <tr>\n",
       "      <th>9</th>\n",
       "      <td>Research Statistical Analyst</td>\n",
       "      <td>MD ANDERSON CANCER CENTER</td>\n",
       "      <td>Houston</td>\n",
       "      <td>70000.0</td>\n",
       "      <td>False</td>\n",
       "    </tr>\n",
       "  </tbody>\n",
       "</table>\n",
       "</div>"
      ],
      "text/plain": [
       "                            title                    company location  \\\n",
       "0         Computational Scientist  MD ANDERSON CANCER CENTER  Houston   \n",
       "1         Machine Learning Expert           Arundo Analytics  Houston   \n",
       "2  Quantitative Marketing Analyst               Numeric Jobs  Houston   \n",
       "3                  Data Scientist                     Panton  Houston   \n",
       "4           Senior Data Scientist                      Shell  Houston   \n",
       "5              Research Scientist   GeoControl Systems, Inc.  Houston   \n",
       "6        Marketing Data Scientist                Alert Logic  Houston   \n",
       "7        Data Scientist - Houston  Amazon Web Services, Inc.  Houston   \n",
       "8                  Data Scientist                        IHS  Houston   \n",
       "9    Research Statistical Analyst  MD ANDERSON CANCER CENTER  Houston   \n",
       "\n",
       "     salary salaryhigh  \n",
       "0       NaN      False  \n",
       "1       NaN      False  \n",
       "2       NaN      False  \n",
       "3  160000.0       True  \n",
       "4       NaN      False  \n",
       "5       NaN      False  \n",
       "6   49506.0      False  \n",
       "7       NaN      False  \n",
       "8       NaN      False  \n",
       "9   70000.0      False  "
      ]
     },
     "execution_count": 64,
     "metadata": {},
     "output_type": "execute_result"
    }
   ],
   "source": [
    "#this function returns a true value if the salary is higher than the median\n",
    "\n",
    "\n",
    "median = df.salary.median()\n",
    "\n",
    "def salarybool(value):\n",
    "    if value >= median:\n",
    "        return True\n",
    "    else: return False\n",
    "    \n",
    "df['salaryhigh'] = df.salary.to_frame().applymap(salarybool)\n",
    "df.head(10)"
   ]
  },
  {
   "cell_type": "markdown",
   "metadata": {
    "focus": false,
    "id": "a7afb2c0-d41e-4779-8216-91cd8dd4473f"
   },
   "source": [
    "#### Thought experiment: What is the baseline accuracy for this model?"
   ]
  },
  {
   "cell_type": "markdown",
   "metadata": {
    "collapsed": true,
    "focus": false,
    "id": "87a17d3d-b7f4-4747-9f75-f9af1d18a174"
   },
   "source": [
    "The baseline accuracy is 50/50 because we used the median salary as our binary determinant. "
   ]
  },
  {
   "cell_type": "markdown",
   "metadata": {
    "focus": false,
    "id": "4fb29de2-5b98-474c-a4ad-5170b72b9aea"
   },
   "source": [
    "#### Create a Logistic Regression model to predict High/Low salary using statsmodel. Start by ONLY using the location as a feature. Display the coefficients and write a short summary of what they mean."
   ]
  },
  {
   "cell_type": "code",
   "execution_count": 65,
   "metadata": {
    "collapsed": false,
    "focus": false,
    "id": "ddbc6159-6854-4ca7-857f-bfecdaf6d9c2"
   },
   "outputs": [
    {
     "name": "stderr",
     "output_type": "stream",
     "text": [
      "/anaconda/lib/python2.7/site-packages/ipykernel/__main__.py:8: SettingWithCopyWarning: \n",
      "A value is trying to be set on a copy of a slice from a DataFrame.\n",
      "Try using .loc[row_indexer,col_indexer] = value instead\n",
      "\n",
      "See the caveats in the documentation: http://pandas.pydata.org/pandas-docs/stable/indexing.html#indexing-view-versus-copy\n"
     ]
    },
    {
     "data": {
      "text/html": [
       "<div>\n",
       "<table border=\"1\" class=\"dataframe\">\n",
       "  <thead>\n",
       "    <tr style=\"text-align: right;\">\n",
       "      <th></th>\n",
       "      <th>location</th>\n",
       "      <th>salary</th>\n",
       "      <th>salaryhigh</th>\n",
       "      <th>Gilbert</th>\n",
       "      <th>Glendale</th>\n",
       "      <th>Houston</th>\n",
       "      <th>Mesa</th>\n",
       "      <th>Phoenix</th>\n",
       "      <th>Scottsdale</th>\n",
       "      <th>Spring</th>\n",
       "      <th>Tempe</th>\n",
       "      <th>United States</th>\n",
       "      <th>constant</th>\n",
       "    </tr>\n",
       "  </thead>\n",
       "  <tbody>\n",
       "    <tr>\n",
       "      <th>3</th>\n",
       "      <td>Houston</td>\n",
       "      <td>160000.0</td>\n",
       "      <td>True</td>\n",
       "      <td>0.0</td>\n",
       "      <td>0.0</td>\n",
       "      <td>1.0</td>\n",
       "      <td>0.0</td>\n",
       "      <td>0.0</td>\n",
       "      <td>0.0</td>\n",
       "      <td>0.0</td>\n",
       "      <td>0.0</td>\n",
       "      <td>0.0</td>\n",
       "      <td>1</td>\n",
       "    </tr>\n",
       "    <tr>\n",
       "      <th>6</th>\n",
       "      <td>Houston</td>\n",
       "      <td>49506.0</td>\n",
       "      <td>False</td>\n",
       "      <td>0.0</td>\n",
       "      <td>0.0</td>\n",
       "      <td>1.0</td>\n",
       "      <td>0.0</td>\n",
       "      <td>0.0</td>\n",
       "      <td>0.0</td>\n",
       "      <td>0.0</td>\n",
       "      <td>0.0</td>\n",
       "      <td>0.0</td>\n",
       "      <td>1</td>\n",
       "    </tr>\n",
       "    <tr>\n",
       "      <th>9</th>\n",
       "      <td>Houston</td>\n",
       "      <td>70000.0</td>\n",
       "      <td>False</td>\n",
       "      <td>0.0</td>\n",
       "      <td>0.0</td>\n",
       "      <td>1.0</td>\n",
       "      <td>0.0</td>\n",
       "      <td>0.0</td>\n",
       "      <td>0.0</td>\n",
       "      <td>0.0</td>\n",
       "      <td>0.0</td>\n",
       "      <td>0.0</td>\n",
       "      <td>1</td>\n",
       "    </tr>\n",
       "    <tr>\n",
       "      <th>10</th>\n",
       "      <td>Houston</td>\n",
       "      <td>93431.0</td>\n",
       "      <td>False</td>\n",
       "      <td>0.0</td>\n",
       "      <td>0.0</td>\n",
       "      <td>1.0</td>\n",
       "      <td>0.0</td>\n",
       "      <td>0.0</td>\n",
       "      <td>0.0</td>\n",
       "      <td>0.0</td>\n",
       "      <td>0.0</td>\n",
       "      <td>0.0</td>\n",
       "      <td>1</td>\n",
       "    </tr>\n",
       "    <tr>\n",
       "      <th>19</th>\n",
       "      <td>Houston</td>\n",
       "      <td>64500.0</td>\n",
       "      <td>False</td>\n",
       "      <td>0.0</td>\n",
       "      <td>0.0</td>\n",
       "      <td>1.0</td>\n",
       "      <td>0.0</td>\n",
       "      <td>0.0</td>\n",
       "      <td>0.0</td>\n",
       "      <td>0.0</td>\n",
       "      <td>0.0</td>\n",
       "      <td>0.0</td>\n",
       "      <td>1</td>\n",
       "    </tr>\n",
       "  </tbody>\n",
       "</table>\n",
       "</div>"
      ],
      "text/plain": [
       "   location    salary salaryhigh  Gilbert  Glendale  Houston  Mesa  Phoenix  \\\n",
       "3   Houston  160000.0       True      0.0       0.0      1.0   0.0      0.0   \n",
       "6   Houston   49506.0      False      0.0       0.0      1.0   0.0      0.0   \n",
       "9   Houston   70000.0      False      0.0       0.0      1.0   0.0      0.0   \n",
       "10  Houston   93431.0      False      0.0       0.0      1.0   0.0      0.0   \n",
       "19  Houston   64500.0      False      0.0       0.0      1.0   0.0      0.0   \n",
       "\n",
       "    Scottsdale  Spring  Tempe  United States  constant  \n",
       "3          0.0     0.0    0.0            0.0         1  \n",
       "6          0.0     0.0    0.0            0.0         1  \n",
       "9          0.0     0.0    0.0            0.0         1  \n",
       "10         0.0     0.0    0.0            0.0         1  \n",
       "19         0.0     0.0    0.0            0.0         1  "
      ]
     },
     "execution_count": 65,
     "metadata": {},
     "output_type": "execute_result"
    }
   ],
   "source": [
    "#location, salary, and the boolean salary variable have been pulled out and dummy variables created for each location.\n",
    "\n",
    "\n",
    "tempdf = df[df['salary']>0]\n",
    "locationdf = tempdf[['location','salary','salaryhigh']]\n",
    "\n",
    "\n",
    "locationdf['key'] = range(len(locationdf['location']))\n",
    "locationdf = pd.concat([locationdf.drop('key',axis=1),pd.get_dummies(locationdf['location'])], axis = 1)\n",
    "locationdf['constant'] = 1\n",
    "#del locationdf['Spring']\n",
    "locationdf.head()"
   ]
  },
  {
   "cell_type": "code",
   "execution_count": 66,
   "metadata": {
    "collapsed": false
   },
   "outputs": [
    {
     "name": "stdout",
     "output_type": "stream",
     "text": [
      "(217, 10)\n",
      "(217,)\n"
     ]
    }
   ],
   "source": [
    "#sets target and data variables and prints shape\n",
    "\n",
    "X = locationdf[list(locationdf.columns[3:])]\n",
    "y = locationdf.salaryhigh\n",
    "print X.shape\n",
    "print y.shape"
   ]
  },
  {
   "cell_type": "code",
   "execution_count": 67,
   "metadata": {
    "collapsed": false
   },
   "outputs": [
    {
     "name": "stdout",
     "output_type": "stream",
     "text": [
      "Warning: Maximum number of iterations has been exceeded.\n",
      "         Current function value: 0.682864\n",
      "         Iterations: 35\n",
      "         Function evaluations: 36\n",
      "         Gradient evaluations: 36\n"
     ]
    },
    {
     "name": "stderr",
     "output_type": "stream",
     "text": [
      "//anaconda/lib/python2.7/site-packages/statsmodels/base/model.py:466: ConvergenceWarning: Maximum Likelihood optimization failed to converge. Check mle_retvals\n",
      "  \"Check mle_retvals\", ConvergenceWarning)\n"
     ]
    },
    {
     "data": {
      "text/html": [
       "<table class=\"simpletable\">\n",
       "<caption>Logit Regression Results</caption>\n",
       "<tr>\n",
       "  <th>Dep. Variable:</th>    <td>salaryhigh</td>    <th>  No. Observations:  </th>  <td>   217</td> \n",
       "</tr>\n",
       "<tr>\n",
       "  <th>Model:</th>               <td>Logit</td>      <th>  Df Residuals:      </th>  <td>   208</td> \n",
       "</tr>\n",
       "<tr>\n",
       "  <th>Method:</th>               <td>MLE</td>       <th>  Df Model:          </th>  <td>     8</td> \n",
       "</tr>\n",
       "<tr>\n",
       "  <th>Date:</th>          <td>Fri, 08 Jul 2016</td> <th>  Pseudo R-squ.:     </th>  <td>0.01410</td>\n",
       "</tr>\n",
       "<tr>\n",
       "  <th>Time:</th>              <td>02:42:37</td>     <th>  Log-Likelihood:    </th> <td> -148.18</td>\n",
       "</tr>\n",
       "<tr>\n",
       "  <th>converged:</th>           <td>False</td>      <th>  LL-Null:           </th> <td> -150.30</td>\n",
       "</tr>\n",
       "<tr>\n",
       "  <th> </th>                      <td> </td>        <th>  LLR p-value:       </th>  <td>0.8351</td> \n",
       "</tr>\n",
       "</table>\n",
       "<table class=\"simpletable\">\n",
       "<tr>\n",
       "        <td></td>           <th>coef</th>     <th>std err</th>      <th>z</th>      <th>P>|z|</th> <th>[95.0% Conf. Int.]</th> \n",
       "</tr>\n",
       "<tr>\n",
       "  <th>Gilbert</th>       <td>    2.1715</td> <td> 2.84e+06</td> <td> 7.66e-07</td> <td> 1.000</td> <td>-5.56e+06  5.56e+06</td>\n",
       "</tr>\n",
       "<tr>\n",
       "  <th>Glendale</th>      <td>    2.1715</td> <td> 2.84e+06</td> <td> 7.66e-07</td> <td> 1.000</td> <td>-5.56e+06  5.56e+06</td>\n",
       "</tr>\n",
       "<tr>\n",
       "  <th>Houston</th>       <td>   -0.3119</td> <td> 2.84e+06</td> <td> -1.1e-07</td> <td> 1.000</td> <td>-5.56e+06  5.56e+06</td>\n",
       "</tr>\n",
       "<tr>\n",
       "  <th>Mesa</th>          <td>   -0.2806</td> <td> 2.84e+06</td> <td>-9.89e-08</td> <td> 1.000</td> <td>-5.56e+06  5.56e+06</td>\n",
       "</tr>\n",
       "<tr>\n",
       "  <th>Phoenix</th>       <td>   -0.2621</td> <td> 2.84e+06</td> <td>-9.24e-08</td> <td> 1.000</td> <td>-5.56e+06  5.56e+06</td>\n",
       "</tr>\n",
       "<tr>\n",
       "  <th>Scottsdale</th>    <td>   -0.7730</td> <td> 2.84e+06</td> <td>-2.73e-07</td> <td> 1.000</td> <td>-5.56e+06  5.56e+06</td>\n",
       "</tr>\n",
       "<tr>\n",
       "  <th>Spring</th>        <td>   -2.4451</td> <td> 2.84e+06</td> <td>-8.62e-07</td> <td> 1.000</td> <td>-5.56e+06  5.56e+06</td>\n",
       "</tr>\n",
       "<tr>\n",
       "  <th>Tempe</th>         <td>   -0.3033</td> <td> 2.84e+06</td> <td>-1.07e-07</td> <td> 1.000</td> <td>-5.56e+06  5.56e+06</td>\n",
       "</tr>\n",
       "<tr>\n",
       "  <th>United States</th> <td>    0.4294</td> <td> 2.84e+06</td> <td> 1.51e-07</td> <td> 1.000</td> <td>-5.56e+06  5.56e+06</td>\n",
       "</tr>\n",
       "<tr>\n",
       "  <th>constant</th>      <td>    0.3965</td> <td> 2.84e+06</td> <td>  1.4e-07</td> <td> 1.000</td> <td>-5.56e+06  5.56e+06</td>\n",
       "</tr>\n",
       "</table>"
      ],
      "text/plain": [
       "<class 'statsmodels.iolib.summary.Summary'>\n",
       "\"\"\"\n",
       "                           Logit Regression Results                           \n",
       "==============================================================================\n",
       "Dep. Variable:             salaryhigh   No. Observations:                  217\n",
       "Model:                          Logit   Df Residuals:                      208\n",
       "Method:                           MLE   Df Model:                            8\n",
       "Date:                Fri, 08 Jul 2016   Pseudo R-squ.:                 0.01410\n",
       "Time:                        02:42:37   Log-Likelihood:                -148.18\n",
       "converged:                      False   LL-Null:                       -150.30\n",
       "                                        LLR p-value:                    0.8351\n",
       "=================================================================================\n",
       "                    coef    std err          z      P>|z|      [95.0% Conf. Int.]\n",
       "---------------------------------------------------------------------------------\n",
       "Gilbert           2.1715   2.84e+06   7.66e-07      1.000     -5.56e+06  5.56e+06\n",
       "Glendale          2.1715   2.84e+06   7.66e-07      1.000     -5.56e+06  5.56e+06\n",
       "Houston          -0.3119   2.84e+06   -1.1e-07      1.000     -5.56e+06  5.56e+06\n",
       "Mesa             -0.2806   2.84e+06  -9.89e-08      1.000     -5.56e+06  5.56e+06\n",
       "Phoenix          -0.2621   2.84e+06  -9.24e-08      1.000     -5.56e+06  5.56e+06\n",
       "Scottsdale       -0.7730   2.84e+06  -2.73e-07      1.000     -5.56e+06  5.56e+06\n",
       "Spring           -2.4451   2.84e+06  -8.62e-07      1.000     -5.56e+06  5.56e+06\n",
       "Tempe            -0.3033   2.84e+06  -1.07e-07      1.000     -5.56e+06  5.56e+06\n",
       "United States     0.4294   2.84e+06   1.51e-07      1.000     -5.56e+06  5.56e+06\n",
       "constant          0.3965   2.84e+06    1.4e-07      1.000     -5.56e+06  5.56e+06\n",
       "=================================================================================\n",
       "\"\"\""
      ]
     },
     "execution_count": 67,
     "metadata": {},
     "output_type": "execute_result"
    }
   ],
   "source": [
    "#fits statsmodel logistic regression model based on test and target data\n",
    "\n",
    "model = sm.Logit(y,X)\n",
    "model_fit = model.fit(method = 'bfgs')\n",
    "model_fit.summary()"
   ]
  },
  {
   "cell_type": "markdown",
   "metadata": {},
   "source": [
    "The magnitude of the coefficients represent the salaries in that city relative to the median salary."
   ]
  },
  {
   "cell_type": "markdown",
   "metadata": {
    "focus": false,
    "id": "0ef04f32-419c-4bf2-baf7-48201f03df89"
   },
   "source": [
    "#### Create a few new variables in your dataframe to represent interesting features of a job title.\n",
    "- For example, create a feature that represents whether 'Senior' is in the title \n",
    "- or whether 'Manager' is in the title. \n",
    "- Then build a new Logistic Regression model with these features. Do they add any value? \n"
   ]
  },
  {
   "cell_type": "code",
   "execution_count": 68,
   "metadata": {
    "collapsed": false,
    "focus": false,
    "id": "068dc1cf-7fd7-4f27-a1f1-7f0a5a221d29"
   },
   "outputs": [],
   "source": [
    "#this function adds a field for title level and returns level based on key words in title\n",
    "\n",
    "def titlelevel(value):\n",
    "    value = str(value)\n",
    "    if 'Manager' in value:\n",
    "        return 'manager'\n",
    "    elif 'Director' in value:\n",
    "        return 'director'\n",
    "    elif 'VP' in value:\n",
    "        return 'vp'\n",
    "    elif 'Chief' in value:\n",
    "        return 'chief'\n",
    "    elif 'Analyst' in value:\n",
    "        return 'analyst'\n",
    "    elif 'Scientist' in value:\n",
    "        return 'scientist'\n",
    "    elif 'Engineer' in value:\n",
    "        return 'engineer'\n",
    "    else: return 'other'\n",
    "\n",
    "locationdf['titlelevel'] = df.title.to_frame().applymap(titlelevel)"
   ]
  },
  {
   "cell_type": "code",
   "execution_count": 69,
   "metadata": {
    "collapsed": false
   },
   "outputs": [
    {
     "data": {
      "text/html": [
       "<div>\n",
       "<table border=\"1\" class=\"dataframe\">\n",
       "  <thead>\n",
       "    <tr style=\"text-align: right;\">\n",
       "      <th></th>\n",
       "      <th>location</th>\n",
       "      <th>salary</th>\n",
       "      <th>salaryhigh</th>\n",
       "      <th>Gilbert</th>\n",
       "      <th>Glendale</th>\n",
       "      <th>Houston</th>\n",
       "      <th>Mesa</th>\n",
       "      <th>Phoenix</th>\n",
       "      <th>Scottsdale</th>\n",
       "      <th>Spring</th>\n",
       "      <th>Tempe</th>\n",
       "      <th>United States</th>\n",
       "      <th>constant</th>\n",
       "      <th>titlelevel</th>\n",
       "    </tr>\n",
       "  </thead>\n",
       "  <tbody>\n",
       "    <tr>\n",
       "      <th>3</th>\n",
       "      <td>Houston</td>\n",
       "      <td>160000.0</td>\n",
       "      <td>True</td>\n",
       "      <td>0.0</td>\n",
       "      <td>0.0</td>\n",
       "      <td>1.0</td>\n",
       "      <td>0.0</td>\n",
       "      <td>0.0</td>\n",
       "      <td>0.0</td>\n",
       "      <td>0.0</td>\n",
       "      <td>0.0</td>\n",
       "      <td>0.0</td>\n",
       "      <td>1</td>\n",
       "      <td>scientist</td>\n",
       "    </tr>\n",
       "    <tr>\n",
       "      <th>6</th>\n",
       "      <td>Houston</td>\n",
       "      <td>49506.0</td>\n",
       "      <td>False</td>\n",
       "      <td>0.0</td>\n",
       "      <td>0.0</td>\n",
       "      <td>1.0</td>\n",
       "      <td>0.0</td>\n",
       "      <td>0.0</td>\n",
       "      <td>0.0</td>\n",
       "      <td>0.0</td>\n",
       "      <td>0.0</td>\n",
       "      <td>0.0</td>\n",
       "      <td>1</td>\n",
       "      <td>scientist</td>\n",
       "    </tr>\n",
       "    <tr>\n",
       "      <th>9</th>\n",
       "      <td>Houston</td>\n",
       "      <td>70000.0</td>\n",
       "      <td>False</td>\n",
       "      <td>0.0</td>\n",
       "      <td>0.0</td>\n",
       "      <td>1.0</td>\n",
       "      <td>0.0</td>\n",
       "      <td>0.0</td>\n",
       "      <td>0.0</td>\n",
       "      <td>0.0</td>\n",
       "      <td>0.0</td>\n",
       "      <td>0.0</td>\n",
       "      <td>1</td>\n",
       "      <td>analyst</td>\n",
       "    </tr>\n",
       "    <tr>\n",
       "      <th>10</th>\n",
       "      <td>Houston</td>\n",
       "      <td>93431.0</td>\n",
       "      <td>False</td>\n",
       "      <td>0.0</td>\n",
       "      <td>0.0</td>\n",
       "      <td>1.0</td>\n",
       "      <td>0.0</td>\n",
       "      <td>0.0</td>\n",
       "      <td>0.0</td>\n",
       "      <td>0.0</td>\n",
       "      <td>0.0</td>\n",
       "      <td>0.0</td>\n",
       "      <td>1</td>\n",
       "      <td>scientist</td>\n",
       "    </tr>\n",
       "    <tr>\n",
       "      <th>19</th>\n",
       "      <td>Houston</td>\n",
       "      <td>64500.0</td>\n",
       "      <td>False</td>\n",
       "      <td>0.0</td>\n",
       "      <td>0.0</td>\n",
       "      <td>1.0</td>\n",
       "      <td>0.0</td>\n",
       "      <td>0.0</td>\n",
       "      <td>0.0</td>\n",
       "      <td>0.0</td>\n",
       "      <td>0.0</td>\n",
       "      <td>0.0</td>\n",
       "      <td>1</td>\n",
       "      <td>manager</td>\n",
       "    </tr>\n",
       "  </tbody>\n",
       "</table>\n",
       "</div>"
      ],
      "text/plain": [
       "   location    salary salaryhigh  Gilbert  Glendale  Houston  Mesa  Phoenix  \\\n",
       "3   Houston  160000.0       True      0.0       0.0      1.0   0.0      0.0   \n",
       "6   Houston   49506.0      False      0.0       0.0      1.0   0.0      0.0   \n",
       "9   Houston   70000.0      False      0.0       0.0      1.0   0.0      0.0   \n",
       "10  Houston   93431.0      False      0.0       0.0      1.0   0.0      0.0   \n",
       "19  Houston   64500.0      False      0.0       0.0      1.0   0.0      0.0   \n",
       "\n",
       "    Scottsdale  Spring  Tempe  United States  constant titlelevel  \n",
       "3          0.0     0.0    0.0            0.0         1  scientist  \n",
       "6          0.0     0.0    0.0            0.0         1  scientist  \n",
       "9          0.0     0.0    0.0            0.0         1    analyst  \n",
       "10         0.0     0.0    0.0            0.0         1  scientist  \n",
       "19         0.0     0.0    0.0            0.0         1    manager  "
      ]
     },
     "execution_count": 69,
     "metadata": {},
     "output_type": "execute_result"
    }
   ],
   "source": [
    "locationdf.head()"
   ]
  },
  {
   "cell_type": "markdown",
   "metadata": {
    "focus": false,
    "id": "9c9274ef-c9f5-4d56-b286-ecc8709eff9f"
   },
   "source": [
    "#### Rebuild this model with scikit-learn.\n",
    "- You can either create the dummy features manually or use the `dmatrix` function from `patsy`\n",
    "- Remember to scale the feature variables as well!\n"
   ]
  },
  {
   "cell_type": "code",
   "execution_count": 70,
   "metadata": {
    "collapsed": false,
    "focus": false,
    "id": "b76f65cd-cd3a-4e91-af55-12880be7b057"
   },
   "outputs": [],
   "source": [
    "# import patsy\n",
    "# f = 'y ~ x'\n",
    "# y, X = patsy.dmatrices(f, df, return_type='dataframe')\n",
    "# sm.Logit(y, X).fit().summary()"
   ]
  },
  {
   "cell_type": "code",
   "execution_count": 71,
   "metadata": {
    "collapsed": false
   },
   "outputs": [
    {
     "data": {
      "text/html": [
       "<div>\n",
       "<table border=\"1\" class=\"dataframe\">\n",
       "  <thead>\n",
       "    <tr style=\"text-align: right;\">\n",
       "      <th></th>\n",
       "      <th>location</th>\n",
       "      <th>salary</th>\n",
       "      <th>salaryhigh</th>\n",
       "      <th>Gilbert</th>\n",
       "      <th>Glendale</th>\n",
       "      <th>Houston</th>\n",
       "      <th>Mesa</th>\n",
       "      <th>Phoenix</th>\n",
       "      <th>Scottsdale</th>\n",
       "      <th>Spring</th>\n",
       "      <th>Tempe</th>\n",
       "      <th>United States</th>\n",
       "      <th>constant</th>\n",
       "      <th>analyst</th>\n",
       "      <th>director</th>\n",
       "      <th>engineer</th>\n",
       "      <th>manager</th>\n",
       "      <th>other</th>\n",
       "    </tr>\n",
       "  </thead>\n",
       "  <tbody>\n",
       "    <tr>\n",
       "      <th>3</th>\n",
       "      <td>Houston</td>\n",
       "      <td>160000.0</td>\n",
       "      <td>True</td>\n",
       "      <td>0.0</td>\n",
       "      <td>0.0</td>\n",
       "      <td>1.0</td>\n",
       "      <td>0.0</td>\n",
       "      <td>0.0</td>\n",
       "      <td>0.0</td>\n",
       "      <td>0.0</td>\n",
       "      <td>0.0</td>\n",
       "      <td>0.0</td>\n",
       "      <td>1</td>\n",
       "      <td>0.0</td>\n",
       "      <td>0.0</td>\n",
       "      <td>0.0</td>\n",
       "      <td>0.0</td>\n",
       "      <td>0.0</td>\n",
       "    </tr>\n",
       "    <tr>\n",
       "      <th>6</th>\n",
       "      <td>Houston</td>\n",
       "      <td>49506.0</td>\n",
       "      <td>False</td>\n",
       "      <td>0.0</td>\n",
       "      <td>0.0</td>\n",
       "      <td>1.0</td>\n",
       "      <td>0.0</td>\n",
       "      <td>0.0</td>\n",
       "      <td>0.0</td>\n",
       "      <td>0.0</td>\n",
       "      <td>0.0</td>\n",
       "      <td>0.0</td>\n",
       "      <td>1</td>\n",
       "      <td>0.0</td>\n",
       "      <td>0.0</td>\n",
       "      <td>0.0</td>\n",
       "      <td>0.0</td>\n",
       "      <td>0.0</td>\n",
       "    </tr>\n",
       "    <tr>\n",
       "      <th>9</th>\n",
       "      <td>Houston</td>\n",
       "      <td>70000.0</td>\n",
       "      <td>False</td>\n",
       "      <td>0.0</td>\n",
       "      <td>0.0</td>\n",
       "      <td>1.0</td>\n",
       "      <td>0.0</td>\n",
       "      <td>0.0</td>\n",
       "      <td>0.0</td>\n",
       "      <td>0.0</td>\n",
       "      <td>0.0</td>\n",
       "      <td>0.0</td>\n",
       "      <td>1</td>\n",
       "      <td>1.0</td>\n",
       "      <td>0.0</td>\n",
       "      <td>0.0</td>\n",
       "      <td>0.0</td>\n",
       "      <td>0.0</td>\n",
       "    </tr>\n",
       "    <tr>\n",
       "      <th>10</th>\n",
       "      <td>Houston</td>\n",
       "      <td>93431.0</td>\n",
       "      <td>False</td>\n",
       "      <td>0.0</td>\n",
       "      <td>0.0</td>\n",
       "      <td>1.0</td>\n",
       "      <td>0.0</td>\n",
       "      <td>0.0</td>\n",
       "      <td>0.0</td>\n",
       "      <td>0.0</td>\n",
       "      <td>0.0</td>\n",
       "      <td>0.0</td>\n",
       "      <td>1</td>\n",
       "      <td>0.0</td>\n",
       "      <td>0.0</td>\n",
       "      <td>0.0</td>\n",
       "      <td>0.0</td>\n",
       "      <td>0.0</td>\n",
       "    </tr>\n",
       "    <tr>\n",
       "      <th>19</th>\n",
       "      <td>Houston</td>\n",
       "      <td>64500.0</td>\n",
       "      <td>False</td>\n",
       "      <td>0.0</td>\n",
       "      <td>0.0</td>\n",
       "      <td>1.0</td>\n",
       "      <td>0.0</td>\n",
       "      <td>0.0</td>\n",
       "      <td>0.0</td>\n",
       "      <td>0.0</td>\n",
       "      <td>0.0</td>\n",
       "      <td>0.0</td>\n",
       "      <td>1</td>\n",
       "      <td>0.0</td>\n",
       "      <td>0.0</td>\n",
       "      <td>0.0</td>\n",
       "      <td>1.0</td>\n",
       "      <td>0.0</td>\n",
       "    </tr>\n",
       "  </tbody>\n",
       "</table>\n",
       "</div>"
      ],
      "text/plain": [
       "   location    salary salaryhigh  Gilbert  Glendale  Houston  Mesa  Phoenix  \\\n",
       "3   Houston  160000.0       True      0.0       0.0      1.0   0.0      0.0   \n",
       "6   Houston   49506.0      False      0.0       0.0      1.0   0.0      0.0   \n",
       "9   Houston   70000.0      False      0.0       0.0      1.0   0.0      0.0   \n",
       "10  Houston   93431.0      False      0.0       0.0      1.0   0.0      0.0   \n",
       "19  Houston   64500.0      False      0.0       0.0      1.0   0.0      0.0   \n",
       "\n",
       "    Scottsdale  Spring  Tempe  United States  constant  analyst  director  \\\n",
       "3          0.0     0.0    0.0            0.0         1      0.0       0.0   \n",
       "6          0.0     0.0    0.0            0.0         1      0.0       0.0   \n",
       "9          0.0     0.0    0.0            0.0         1      1.0       0.0   \n",
       "10         0.0     0.0    0.0            0.0         1      0.0       0.0   \n",
       "19         0.0     0.0    0.0            0.0         1      0.0       0.0   \n",
       "\n",
       "    engineer  manager  other  \n",
       "3        0.0      0.0    0.0  \n",
       "6        0.0      0.0    0.0  \n",
       "9        0.0      0.0    0.0  \n",
       "10       0.0      0.0    0.0  \n",
       "19       0.0      1.0    0.0  "
      ]
     },
     "execution_count": 71,
     "metadata": {},
     "output_type": "execute_result"
    }
   ],
   "source": [
    "#titlelevel, salary, and the boolean salary variable have been pulled out and dummy variables created for each title level.\n",
    "\n",
    "locationdf['key'] = range(len(locationdf['titlelevel']))\n",
    "locationdf = pd.concat([locationdf.drop('key',axis=1),pd.get_dummies(locationdf['titlelevel'])], axis = 1)\n",
    "locationdf['constant'] = 1\n",
    "del locationdf['scientist']\n",
    "del locationdf['titlelevel']\n",
    "locationdf.head()"
   ]
  },
  {
   "cell_type": "code",
   "execution_count": 72,
   "metadata": {
    "collapsed": false
   },
   "outputs": [
    {
     "data": {
      "text/plain": [
       "LogisticRegression(C=1.0, class_weight=None, dual=False, fit_intercept=True,\n",
       "          intercept_scaling=1, max_iter=100, multi_class='ovr', n_jobs=1,\n",
       "          penalty='l2', random_state=None, solver='liblinear', tol=0.0001,\n",
       "          verbose=0, warm_start=False)"
      ]
     },
     "execution_count": 72,
     "metadata": {},
     "output_type": "execute_result"
    }
   ],
   "source": [
    "#fits the features (X) and the salaryhigh (T/F) to the logistic regression model\n",
    "\n",
    "model = LogisticRegression()\n",
    "X = locationdf[list(locationdf.columns[3:])]\n",
    "y = locationdf.salaryhigh\n",
    "\n",
    "model.fit(X, y)"
   ]
  },
  {
   "cell_type": "code",
   "execution_count": 73,
   "metadata": {
    "collapsed": false
   },
   "outputs": [
    {
     "data": {
      "text/html": [
       "<div>\n",
       "<table border=\"1\" class=\"dataframe\">\n",
       "  <thead>\n",
       "    <tr style=\"text-align: right;\">\n",
       "      <th></th>\n",
       "      <th>Predicted High</th>\n",
       "      <th>Predicted Low</th>\n",
       "    </tr>\n",
       "  </thead>\n",
       "  <tbody>\n",
       "    <tr>\n",
       "      <th>Actual High</th>\n",
       "      <td>46</td>\n",
       "      <td>59</td>\n",
       "    </tr>\n",
       "    <tr>\n",
       "      <th>Actual Low</th>\n",
       "      <td>34</td>\n",
       "      <td>78</td>\n",
       "    </tr>\n",
       "  </tbody>\n",
       "</table>\n",
       "</div>"
      ],
      "text/plain": [
       "             Predicted High  Predicted Low\n",
       "Actual High              46             59\n",
       "Actual Low               34             78"
      ]
     },
     "execution_count": 73,
     "metadata": {},
     "output_type": "execute_result"
    }
   ],
   "source": [
    "#predicts salaryhigh T/F as well as prints the confusion matrix\n",
    "\n",
    "lr = LogisticRegression(solver='liblinear')\n",
    "ypredict = model.predict(X)\n",
    "cm = confusion_matrix(y,ypredict)\n",
    "dfcm = pd.DataFrame(cm, columns=['Predicted High','Predicted Low'], index=['Actual High','Actual Low'])\n",
    "dfcm"
   ]
  },
  {
   "cell_type": "code",
   "execution_count": 75,
   "metadata": {
    "collapsed": false
   },
   "outputs": [
    {
     "data": {
      "text/plain": [
       "0.45630390664637238"
      ]
     },
     "execution_count": 75,
     "metadata": {},
     "output_type": "execute_result"
    }
   ],
   "source": [
    "cross_val_score(lr, X, y, cv=3).mean()"
   ]
  },
  {
   "cell_type": "markdown",
   "metadata": {
    "focus": false,
    "id": "9367beff-72ba-4768-a0ba-a50b335de61d"
   },
   "source": [
    "#### Use cross-validation in scikit-learn to evaluate the model above. \n",
    "- Evaluate the accuracy, AUC, precision and recall of the model. \n",
    "- Discuss the differences and explain when you want a high-recall or a high-precision model in this scenario."
   ]
  },
  {
   "cell_type": "code",
   "execution_count": 76,
   "metadata": {
    "collapsed": false
   },
   "outputs": [
    {
     "name": "stdout",
     "output_type": "stream",
     "text": [
      "Accuracy Score: 0.571429\n",
      "Precision Score: 0.569343\n",
      "Recall Score: 0.696429\n",
      "AUC: 33.000000\n"
     ]
    }
   ],
   "source": [
    "from sklearn.metrics import accuracy_score\n",
    "from sklearn.metrics import precision_score\n",
    "from sklearn.metrics import recall_score\n",
    "from sklearn.metrics import auc\n",
    "from sklearn.metrics import confusion_matrix\n",
    "\n",
    "acc = accuracy_score(y, ypredict)\n",
    "pres = precision_score(y, ypredict)\n",
    "reca = recall_score(y, ypredict)\n",
    "auc = auc(y, ypredict)\n",
    "print \"Accuracy Score: %f\"%(acc)\n",
    "print \"Precision Score: %f\"%(pres)\n",
    "print \"Recall Score: %f\"%(reca)\n",
    "print \"AUC: %f\"%(auc)"
   ]
  },
  {
   "cell_type": "markdown",
   "metadata": {},
   "source": [
    "The Precision (58%) represents the actual positives (high salaries) over the all the predicted positives. \n",
    "The Recall (79%) represents the predicted positives over all actual positives regardless of prediction.\n",
    "The AUC is the area under the ROC curve and increases with model accuracy.\n",
    "\n",
    "A high precision model is ideal if you're choosing listings to apply to and don't want to waste your time on interviews if salary is actually lower than predicted. A high recall model is ideal if you have a small number of listings and do not want to miss any high salary positions due to a false negative.\n"
   ]
  },
  {
   "cell_type": "code",
   "execution_count": 77,
   "metadata": {
    "collapsed": true
   },
   "outputs": [],
   "source": [
    "import matplotlib.patheffects as path_effects\n",
    "\n",
    "def plot_confusion_matrix(cm, title='Salary Predictions', labels=['High Salary','Low Salary'], cmap=plt.cm.Blues):\n",
    "    \n",
    "    plt.figure(figsize=(7,7))\n",
    "    plt.imshow(cm, interpolation='nearest', cmap=cmap)\n",
    "    \n",
    "    tick_marks = np.arange(2)\n",
    "    plt.xticks(tick_marks, labels)\n",
    "    plt.yticks(tick_marks, labels)\n",
    "        \n",
    "    plt.title(title)\n",
    "    plt.ylabel('True label')\n",
    "    plt.xlabel('Predicted label')\n",
    "    plt.tight_layout()\n",
    "    \n",
    "    width, height = cm.shape\n",
    "    \n",
    "    for x in xrange(width):\n",
    "        for y in xrange(height):\n",
    "            plt.annotate(str(cm[x][y]), xy=(y, x), \n",
    "                        horizontalalignment='center',\n",
    "                        verticalalignment='center',\n",
    "                        color = 'white',\n",
    "                        fontsize=18).set_path_effects([path_effects.Stroke(linewidth=1, foreground='black'),\n",
    "                                                       path_effects.Normal()])"
   ]
  },
  {
   "cell_type": "code",
   "execution_count": 78,
   "metadata": {
    "collapsed": false
   },
   "outputs": [
    {
     "data": {
      "image/png": "[encoded data removed]",
      "text/plain": [
       "<matplotlib.figure.Figure at 0x1190b6850>"
      ]
     },
     "metadata": {},
     "output_type": "display_data"
    }
   ],
   "source": [
    "plot_confusion_matrix(cm)"
   ]
  },
  {
   "cell_type": "code",
   "execution_count": 79,
   "metadata": {
    "collapsed": false,
    "focus": false,
    "id": "269b9e7c-60b5-4a06-8255-881d7395bc1b"
   },
   "outputs": [
    {
     "data": {
      "image/png": "[encoded data removed]",
      "text/plain": [
       "<matplotlib.figure.Figure at 0x118611390>"
      ]
     },
     "metadata": {},
     "output_type": "display_data"
    }
   ],
   "source": [
    "from sklearn.metrics import roc_curve\n",
    "from sklearn.metrics import roc_auc_score\n",
    "from sklearn.cross_validation import train_test_split\n",
    "\n",
    "def getROCcurve(roc, title='ROC Curve', xlabel ='% of False Positives', ylabel = '% of True Positives'):\n",
    "    \n",
    "    fpr, tpr, thresholds = roc\n",
    "    \n",
    "    fig,ax = plt.subplots()\n",
    "    ax.plot(fpr, tpr, label='ROC Curve')\n",
    "\n",
    "    fig.set_size_inches(7, 6, forward=True)\n",
    "    plt.xlabel(xlabel)\n",
    "    plt.ylabel(ylabel)\n",
    "    plt.title(title)\n",
    "    plt.legend(loc='best')\n",
    "    \n",
    "proba = model.predict_proba(X).T[1]\n",
    "roc = roc_curve(y,proba)\n",
    "## Generate an ROC Curve in sklearn\n",
    "getROCcurve(roc, title='Predicting High Salaries', ylabel='% of High Salaries Predicted Correctly',\\\n",
    "            xlabel='% of Low Salaries Predicted as High')"
   ]
  },
  {
   "cell_type": "markdown",
   "metadata": {
    "focus": false,
    "id": "8c22664b-92e4-4fc2-b7ac-fbac865845d3"
   },
   "source": [
    "#### Compare L1 and L2 regularization for this logistic regression model. What effect does this have on the coefficients learned?"
   ]
  },
  {
   "cell_type": "code",
   "execution_count": 80,
   "metadata": {
    "collapsed": false
   },
   "outputs": [
    {
     "data": {
      "text/html": [
       "<div>\n",
       "<table border=\"1\" class=\"dataframe\">\n",
       "  <thead>\n",
       "    <tr style=\"text-align: right;\">\n",
       "      <th></th>\n",
       "      <th>Gilbert</th>\n",
       "      <th>Glendale</th>\n",
       "      <th>Houston</th>\n",
       "      <th>Mesa</th>\n",
       "      <th>Phoenix</th>\n",
       "      <th>Scottsdale</th>\n",
       "      <th>Spring</th>\n",
       "      <th>Tempe</th>\n",
       "      <th>United States</th>\n",
       "      <th>constant</th>\n",
       "      <th>analyst</th>\n",
       "      <th>director</th>\n",
       "      <th>engineer</th>\n",
       "      <th>manager</th>\n",
       "      <th>other</th>\n",
       "      <th>Target</th>\n",
       "    </tr>\n",
       "  </thead>\n",
       "  <tbody>\n",
       "    <tr>\n",
       "      <th>3</th>\n",
       "      <td>0.0</td>\n",
       "      <td>0.0</td>\n",
       "      <td>1.0</td>\n",
       "      <td>0.0</td>\n",
       "      <td>0.0</td>\n",
       "      <td>0.0</td>\n",
       "      <td>0.0</td>\n",
       "      <td>0.0</td>\n",
       "      <td>0.0</td>\n",
       "      <td>1</td>\n",
       "      <td>0.0</td>\n",
       "      <td>0.0</td>\n",
       "      <td>0.0</td>\n",
       "      <td>0.0</td>\n",
       "      <td>0.0</td>\n",
       "      <td>True</td>\n",
       "    </tr>\n",
       "    <tr>\n",
       "      <th>6</th>\n",
       "      <td>0.0</td>\n",
       "      <td>0.0</td>\n",
       "      <td>1.0</td>\n",
       "      <td>0.0</td>\n",
       "      <td>0.0</td>\n",
       "      <td>0.0</td>\n",
       "      <td>0.0</td>\n",
       "      <td>0.0</td>\n",
       "      <td>0.0</td>\n",
       "      <td>1</td>\n",
       "      <td>0.0</td>\n",
       "      <td>0.0</td>\n",
       "      <td>0.0</td>\n",
       "      <td>0.0</td>\n",
       "      <td>0.0</td>\n",
       "      <td>False</td>\n",
       "    </tr>\n",
       "    <tr>\n",
       "      <th>9</th>\n",
       "      <td>0.0</td>\n",
       "      <td>0.0</td>\n",
       "      <td>1.0</td>\n",
       "      <td>0.0</td>\n",
       "      <td>0.0</td>\n",
       "      <td>0.0</td>\n",
       "      <td>0.0</td>\n",
       "      <td>0.0</td>\n",
       "      <td>0.0</td>\n",
       "      <td>1</td>\n",
       "      <td>1.0</td>\n",
       "      <td>0.0</td>\n",
       "      <td>0.0</td>\n",
       "      <td>0.0</td>\n",
       "      <td>0.0</td>\n",
       "      <td>False</td>\n",
       "    </tr>\n",
       "    <tr>\n",
       "      <th>10</th>\n",
       "      <td>0.0</td>\n",
       "      <td>0.0</td>\n",
       "      <td>1.0</td>\n",
       "      <td>0.0</td>\n",
       "      <td>0.0</td>\n",
       "      <td>0.0</td>\n",
       "      <td>0.0</td>\n",
       "      <td>0.0</td>\n",
       "      <td>0.0</td>\n",
       "      <td>1</td>\n",
       "      <td>0.0</td>\n",
       "      <td>0.0</td>\n",
       "      <td>0.0</td>\n",
       "      <td>0.0</td>\n",
       "      <td>0.0</td>\n",
       "      <td>False</td>\n",
       "    </tr>\n",
       "    <tr>\n",
       "      <th>19</th>\n",
       "      <td>0.0</td>\n",
       "      <td>0.0</td>\n",
       "      <td>1.0</td>\n",
       "      <td>0.0</td>\n",
       "      <td>0.0</td>\n",
       "      <td>0.0</td>\n",
       "      <td>0.0</td>\n",
       "      <td>0.0</td>\n",
       "      <td>0.0</td>\n",
       "      <td>1</td>\n",
       "      <td>0.0</td>\n",
       "      <td>0.0</td>\n",
       "      <td>0.0</td>\n",
       "      <td>1.0</td>\n",
       "      <td>0.0</td>\n",
       "      <td>False</td>\n",
       "    </tr>\n",
       "  </tbody>\n",
       "</table>\n",
       "</div>"
      ],
      "text/plain": [
       "    Gilbert  Glendale  Houston  Mesa  Phoenix  Scottsdale  Spring  Tempe  \\\n",
       "3       0.0       0.0      1.0   0.0      0.0         0.0     0.0    0.0   \n",
       "6       0.0       0.0      1.0   0.0      0.0         0.0     0.0    0.0   \n",
       "9       0.0       0.0      1.0   0.0      0.0         0.0     0.0    0.0   \n",
       "10      0.0       0.0      1.0   0.0      0.0         0.0     0.0    0.0   \n",
       "19      0.0       0.0      1.0   0.0      0.0         0.0     0.0    0.0   \n",
       "\n",
       "    United States  constant  analyst  director  engineer  manager  other  \\\n",
       "3             0.0         1      0.0       0.0       0.0      0.0    0.0   \n",
       "6             0.0         1      0.0       0.0       0.0      0.0    0.0   \n",
       "9             0.0         1      1.0       0.0       0.0      0.0    0.0   \n",
       "10            0.0         1      0.0       0.0       0.0      0.0    0.0   \n",
       "19            0.0         1      0.0       0.0       0.0      1.0    0.0   \n",
       "\n",
       "   Target  \n",
       "3    True  \n",
       "6   False  \n",
       "9   False  \n",
       "10  False  \n",
       "19  False  "
      ]
     },
     "execution_count": 80,
     "metadata": {},
     "output_type": "execute_result"
    }
   ],
   "source": [
    "pdf = pd.DataFrame(X, columns=X.columns)\n",
    "pdf['Target'] = y\n",
    "pdf.head()"
   ]
  },
  {
   "cell_type": "code",
   "execution_count": 81,
   "metadata": {
    "collapsed": false,
    "focus": false,
    "id": "56cc8854-d722-411d-a6c7-e86310710f67"
   },
   "outputs": [],
   "source": [
    "lr1 = LogisticRegression(penalty='l1')\n",
    "lr2 = LogisticRegression(penalty='l2')\n",
    "\n",
    "lr1_model = lr1.fit(X, y)\n",
    "lr2_model = lr2.fit(X, y)\n",
    "y1_pred = lr1.predict(X)\n",
    "y2_pred = lr2.predict(X)"
   ]
  },
  {
   "cell_type": "code",
   "execution_count": 82,
   "metadata": {
    "collapsed": true
   },
   "outputs": [],
   "source": [
    "cm1 = confusion_matrix(y, y1_pred, labels=lr1.classes_)\n",
    "cm1 = pd.DataFrame(cm1, columns=['Predicted High','Predicted Low'], index=['Actual High','Actual Low'])\n",
    "\n",
    "cm2 = confusion_matrix(y, y2_pred, labels=lr2.classes_)\n",
    "cm2 = pd.DataFrame(cm2, columns=['Predicted High','Predicted Low'], index=['Actual High','Actual Low'])"
   ]
  },
  {
   "cell_type": "code",
   "execution_count": 83,
   "metadata": {
    "collapsed": false
   },
   "outputs": [
    {
     "data": {
      "text/html": [
       "<div>\n",
       "<table border=\"1\" class=\"dataframe\">\n",
       "  <thead>\n",
       "    <tr style=\"text-align: right;\">\n",
       "      <th></th>\n",
       "      <th>Predicted High</th>\n",
       "      <th>Predicted Low</th>\n",
       "    </tr>\n",
       "  </thead>\n",
       "  <tbody>\n",
       "    <tr>\n",
       "      <th>Actual High</th>\n",
       "      <td>105</td>\n",
       "      <td>0</td>\n",
       "    </tr>\n",
       "    <tr>\n",
       "      <th>Actual Low</th>\n",
       "      <td>0</td>\n",
       "      <td>112</td>\n",
       "    </tr>\n",
       "  </tbody>\n",
       "</table>\n",
       "</div>"
      ],
      "text/plain": [
       "             Predicted High  Predicted Low\n",
       "Actual High             105              0\n",
       "Actual Low                0            112"
      ]
     },
     "execution_count": 83,
     "metadata": {},
     "output_type": "execute_result"
    }
   ],
   "source": [
    "cm1"
   ]
  },
  {
   "cell_type": "code",
   "execution_count": 84,
   "metadata": {
    "collapsed": false
   },
   "outputs": [
    {
     "data": {
      "text/html": [
       "<div>\n",
       "<table border=\"1\" class=\"dataframe\">\n",
       "  <thead>\n",
       "    <tr style=\"text-align: right;\">\n",
       "      <th></th>\n",
       "      <th>Predicted High</th>\n",
       "      <th>Predicted Low</th>\n",
       "    </tr>\n",
       "  </thead>\n",
       "  <tbody>\n",
       "    <tr>\n",
       "      <th>Actual High</th>\n",
       "      <td>105</td>\n",
       "      <td>0</td>\n",
       "    </tr>\n",
       "    <tr>\n",
       "      <th>Actual Low</th>\n",
       "      <td>0</td>\n",
       "      <td>112</td>\n",
       "    </tr>\n",
       "  </tbody>\n",
       "</table>\n",
       "</div>"
      ],
      "text/plain": [
       "             Predicted High  Predicted Low\n",
       "Actual High             105              0\n",
       "Actual Low                0            112"
      ]
     },
     "execution_count": 84,
     "metadata": {},
     "output_type": "execute_result"
    }
   ],
   "source": [
    "cm2"
   ]
  },
  {
   "cell_type": "markdown",
   "metadata": {
    "focus": false,
    "id": "fead9b5b-7316-405d-87fd-e144dff0cbeb"
   },
   "source": [
    "#### Continue to incorporate other text features from the title or summary that you believe will predict the salary and examine their coefficients"
   ]
  },
  {
   "cell_type": "code",
   "execution_count": 85,
   "metadata": {
    "collapsed": false
   },
   "outputs": [
    {
     "data": {
      "text/plain": [
       "<bound method Series.unique of 0                 MD ANDERSON CANCER CENTER\n",
       "1                          Arundo Analytics\n",
       "2                              Numeric Jobs\n",
       "3                                    Panton\n",
       "4                                     Shell\n",
       "5                  GeoControl Systems, Inc.\n",
       "6                               Alert Logic\n",
       "7                 Amazon Web Services, Inc.\n",
       "8                                       IHS\n",
       "9                 MD ANDERSON CANCER CENTER\n",
       "10                             Schlumberger\n",
       "11                                       GE\n",
       "12                                   Panton\n",
       "13                      The Hanover Company\n",
       "14                                   Gallup\n",
       "18                       Quantlab Financial\n",
       "19                         Oscar Technology\n",
       "20                                       BP\n",
       "21                        Houston Methodist\n",
       "22                                     CBRE\n",
       "23                        Houston Methodist\n",
       "25                   Sapient Global Markets\n",
       "26                                   Jacobs\n",
       "27      UT Health Science Center at Houston\n",
       "32                                 Tessella\n",
       "33                          Rice University\n",
       "34               Baylor College of Medicine\n",
       "35               Baylor College of Medicine\n",
       "36                  Earthstream Global, Inc\n",
       "37      UT Health Science Center at Houston\n",
       "                       ...                 \n",
       "7714          University of Texas at Austin\n",
       "7718               Thermo Fisher Scientific\n",
       "7720                                 Amazon\n",
       "7722                                    EMD\n",
       "7725                             Sense Corp\n",
       "7726                        Main Street Hub\n",
       "7741                                 Amazon\n",
       "7743                         Insight Global\n",
       "7744          University of Texas at Austin\n",
       "7756                             Sense Corp\n",
       "7769                        Main Street Hub\n",
       "7813                        Main Street Hub\n",
       "7849                                 Gallup\n",
       "7851                                 Indeed\n",
       "7887                         Insight Global\n",
       "7888          University of Texas at Austin\n",
       "7900                      RetailMeNot, Inc.\n",
       "7915                                 Indeed\n",
       "7916                             Sense Corp\n",
       "7919          University of Texas at Austin\n",
       "7924                                 Gallup\n",
       "7928                                 Indeed\n",
       "7967                             Sense Corp\n",
       "7996                                 Gallup\n",
       "8012                         Insight Global\n",
       "8018               Thermo Fisher Scientific\n",
       "8022                      RetailMeNot, Inc.\n",
       "8023                        Main Street Hub\n",
       "8082                                   None\n",
       "8083                                   None\n",
       "Name: company, dtype: object>"
      ]
     },
     "execution_count": 85,
     "metadata": {},
     "output_type": "execute_result"
    }
   ],
   "source": [
    "df.company.unique"
   ]
  },
  {
   "cell_type": "code",
   "execution_count": 86,
   "metadata": {
    "collapsed": false
   },
   "outputs": [],
   "source": [
    "#this function adds a field for title level and returns level based on key words in title\n",
    "\n",
    "def comkeyword(value):\n",
    "    value = str(value)\n",
    "    #value = value.encode('ascii','ignore')\n",
    "    if 'Corp' in value:\n",
    "        return 'corp'\n",
    "    elif 'Analytics' in value:\n",
    "        return 'analytics'\n",
    "    elif 'University' in value:\n",
    "        return 'university'\n",
    "    elif 'Group' in value or 'group' in value:\n",
    "        return 'group'\n",
    "    elif 'Technology' in value or 'Technologies' in value:\n",
    "        return 'tech'\n",
    "    elif 'Software' in value:\n",
    "        return 'software'\n",
    "    elif 'Engineer' in value:\n",
    "        return 'engineer'\n",
    "    else: return 'other'\n",
    "\n",
    "locationdf['keyword'] = df['company'].to_frame().applymap(comkeyword)"
   ]
  },
  {
   "cell_type": "code",
   "execution_count": 87,
   "metadata": {
    "collapsed": false
   },
   "outputs": [
    {
     "data": {
      "text/html": [
       "<div>\n",
       "<table border=\"1\" class=\"dataframe\">\n",
       "  <thead>\n",
       "    <tr style=\"text-align: right;\">\n",
       "      <th></th>\n",
       "      <th>location</th>\n",
       "      <th>salary</th>\n",
       "      <th>salaryhigh</th>\n",
       "      <th>Gilbert</th>\n",
       "      <th>Glendale</th>\n",
       "      <th>Houston</th>\n",
       "      <th>Mesa</th>\n",
       "      <th>Phoenix</th>\n",
       "      <th>Scottsdale</th>\n",
       "      <th>Spring</th>\n",
       "      <th>Tempe</th>\n",
       "      <th>United States</th>\n",
       "      <th>constant</th>\n",
       "      <th>analyst</th>\n",
       "      <th>director</th>\n",
       "      <th>engineer</th>\n",
       "      <th>manager</th>\n",
       "      <th>other</th>\n",
       "      <th>keyword</th>\n",
       "    </tr>\n",
       "  </thead>\n",
       "  <tbody>\n",
       "    <tr>\n",
       "      <th>3</th>\n",
       "      <td>Houston</td>\n",
       "      <td>160000.0</td>\n",
       "      <td>True</td>\n",
       "      <td>0.0</td>\n",
       "      <td>0.0</td>\n",
       "      <td>1.0</td>\n",
       "      <td>0.0</td>\n",
       "      <td>0.0</td>\n",
       "      <td>0.0</td>\n",
       "      <td>0.0</td>\n",
       "      <td>0.0</td>\n",
       "      <td>0.0</td>\n",
       "      <td>1</td>\n",
       "      <td>0.0</td>\n",
       "      <td>0.0</td>\n",
       "      <td>0.0</td>\n",
       "      <td>0.0</td>\n",
       "      <td>0.0</td>\n",
       "      <td>other</td>\n",
       "    </tr>\n",
       "    <tr>\n",
       "      <th>6</th>\n",
       "      <td>Houston</td>\n",
       "      <td>49506.0</td>\n",
       "      <td>False</td>\n",
       "      <td>0.0</td>\n",
       "      <td>0.0</td>\n",
       "      <td>1.0</td>\n",
       "      <td>0.0</td>\n",
       "      <td>0.0</td>\n",
       "      <td>0.0</td>\n",
       "      <td>0.0</td>\n",
       "      <td>0.0</td>\n",
       "      <td>0.0</td>\n",
       "      <td>1</td>\n",
       "      <td>0.0</td>\n",
       "      <td>0.0</td>\n",
       "      <td>0.0</td>\n",
       "      <td>0.0</td>\n",
       "      <td>0.0</td>\n",
       "      <td>other</td>\n",
       "    </tr>\n",
       "    <tr>\n",
       "      <th>9</th>\n",
       "      <td>Houston</td>\n",
       "      <td>70000.0</td>\n",
       "      <td>False</td>\n",
       "      <td>0.0</td>\n",
       "      <td>0.0</td>\n",
       "      <td>1.0</td>\n",
       "      <td>0.0</td>\n",
       "      <td>0.0</td>\n",
       "      <td>0.0</td>\n",
       "      <td>0.0</td>\n",
       "      <td>0.0</td>\n",
       "      <td>0.0</td>\n",
       "      <td>1</td>\n",
       "      <td>1.0</td>\n",
       "      <td>0.0</td>\n",
       "      <td>0.0</td>\n",
       "      <td>0.0</td>\n",
       "      <td>0.0</td>\n",
       "      <td>other</td>\n",
       "    </tr>\n",
       "    <tr>\n",
       "      <th>10</th>\n",
       "      <td>Houston</td>\n",
       "      <td>93431.0</td>\n",
       "      <td>False</td>\n",
       "      <td>0.0</td>\n",
       "      <td>0.0</td>\n",
       "      <td>1.0</td>\n",
       "      <td>0.0</td>\n",
       "      <td>0.0</td>\n",
       "      <td>0.0</td>\n",
       "      <td>0.0</td>\n",
       "      <td>0.0</td>\n",
       "      <td>0.0</td>\n",
       "      <td>1</td>\n",
       "      <td>0.0</td>\n",
       "      <td>0.0</td>\n",
       "      <td>0.0</td>\n",
       "      <td>0.0</td>\n",
       "      <td>0.0</td>\n",
       "      <td>other</td>\n",
       "    </tr>\n",
       "    <tr>\n",
       "      <th>19</th>\n",
       "      <td>Houston</td>\n",
       "      <td>64500.0</td>\n",
       "      <td>False</td>\n",
       "      <td>0.0</td>\n",
       "      <td>0.0</td>\n",
       "      <td>1.0</td>\n",
       "      <td>0.0</td>\n",
       "      <td>0.0</td>\n",
       "      <td>0.0</td>\n",
       "      <td>0.0</td>\n",
       "      <td>0.0</td>\n",
       "      <td>0.0</td>\n",
       "      <td>1</td>\n",
       "      <td>0.0</td>\n",
       "      <td>0.0</td>\n",
       "      <td>0.0</td>\n",
       "      <td>1.0</td>\n",
       "      <td>0.0</td>\n",
       "      <td>tech</td>\n",
       "    </tr>\n",
       "  </tbody>\n",
       "</table>\n",
       "</div>"
      ],
      "text/plain": [
       "   location    salary salaryhigh  Gilbert  Glendale  Houston  Mesa  Phoenix  \\\n",
       "3   Houston  160000.0       True      0.0       0.0      1.0   0.0      0.0   \n",
       "6   Houston   49506.0      False      0.0       0.0      1.0   0.0      0.0   \n",
       "9   Houston   70000.0      False      0.0       0.0      1.0   0.0      0.0   \n",
       "10  Houston   93431.0      False      0.0       0.0      1.0   0.0      0.0   \n",
       "19  Houston   64500.0      False      0.0       0.0      1.0   0.0      0.0   \n",
       "\n",
       "    Scottsdale  Spring  Tempe  United States  constant  analyst  director  \\\n",
       "3          0.0     0.0    0.0            0.0         1      0.0       0.0   \n",
       "6          0.0     0.0    0.0            0.0         1      0.0       0.0   \n",
       "9          0.0     0.0    0.0            0.0         1      1.0       0.0   \n",
       "10         0.0     0.0    0.0            0.0         1      0.0       0.0   \n",
       "19         0.0     0.0    0.0            0.0         1      0.0       0.0   \n",
       "\n",
       "    engineer  manager  other keyword  \n",
       "3        0.0      0.0    0.0   other  \n",
       "6        0.0      0.0    0.0   other  \n",
       "9        0.0      0.0    0.0   other  \n",
       "10       0.0      0.0    0.0   other  \n",
       "19       0.0      1.0    0.0    tech  "
      ]
     },
     "execution_count": 87,
     "metadata": {},
     "output_type": "execute_result"
    }
   ],
   "source": [
    "locationdf.head()"
   ]
  },
  {
   "cell_type": "code",
   "execution_count": 88,
   "metadata": {
    "collapsed": false
   },
   "outputs": [
    {
     "data": {
      "text/html": [
       "<div>\n",
       "<table border=\"1\" class=\"dataframe\">\n",
       "  <thead>\n",
       "    <tr style=\"text-align: right;\">\n",
       "      <th></th>\n",
       "      <th>location</th>\n",
       "      <th>salary</th>\n",
       "      <th>salaryhigh</th>\n",
       "      <th>Gilbert</th>\n",
       "      <th>Glendale</th>\n",
       "      <th>Houston</th>\n",
       "      <th>Mesa</th>\n",
       "      <th>Phoenix</th>\n",
       "      <th>Scottsdale</th>\n",
       "      <th>Spring</th>\n",
       "      <th>...</th>\n",
       "      <th>engineer</th>\n",
       "      <th>manager</th>\n",
       "      <th>other</th>\n",
       "      <th>analytics</th>\n",
       "      <th>corp</th>\n",
       "      <th>group</th>\n",
       "      <th>other</th>\n",
       "      <th>software</th>\n",
       "      <th>tech</th>\n",
       "      <th>university</th>\n",
       "    </tr>\n",
       "  </thead>\n",
       "  <tbody>\n",
       "    <tr>\n",
       "      <th>3</th>\n",
       "      <td>Houston</td>\n",
       "      <td>160000.0</td>\n",
       "      <td>True</td>\n",
       "      <td>0.0</td>\n",
       "      <td>0.0</td>\n",
       "      <td>1.0</td>\n",
       "      <td>0.0</td>\n",
       "      <td>0.0</td>\n",
       "      <td>0.0</td>\n",
       "      <td>0.0</td>\n",
       "      <td>...</td>\n",
       "      <td>0.0</td>\n",
       "      <td>0.0</td>\n",
       "      <td>0.0</td>\n",
       "      <td>0.0</td>\n",
       "      <td>0.0</td>\n",
       "      <td>0.0</td>\n",
       "      <td>1.0</td>\n",
       "      <td>0.0</td>\n",
       "      <td>0.0</td>\n",
       "      <td>0.0</td>\n",
       "    </tr>\n",
       "    <tr>\n",
       "      <th>6</th>\n",
       "      <td>Houston</td>\n",
       "      <td>49506.0</td>\n",
       "      <td>False</td>\n",
       "      <td>0.0</td>\n",
       "      <td>0.0</td>\n",
       "      <td>1.0</td>\n",
       "      <td>0.0</td>\n",
       "      <td>0.0</td>\n",
       "      <td>0.0</td>\n",
       "      <td>0.0</td>\n",
       "      <td>...</td>\n",
       "      <td>0.0</td>\n",
       "      <td>0.0</td>\n",
       "      <td>0.0</td>\n",
       "      <td>0.0</td>\n",
       "      <td>0.0</td>\n",
       "      <td>0.0</td>\n",
       "      <td>1.0</td>\n",
       "      <td>0.0</td>\n",
       "      <td>0.0</td>\n",
       "      <td>0.0</td>\n",
       "    </tr>\n",
       "    <tr>\n",
       "      <th>9</th>\n",
       "      <td>Houston</td>\n",
       "      <td>70000.0</td>\n",
       "      <td>False</td>\n",
       "      <td>0.0</td>\n",
       "      <td>0.0</td>\n",
       "      <td>1.0</td>\n",
       "      <td>0.0</td>\n",
       "      <td>0.0</td>\n",
       "      <td>0.0</td>\n",
       "      <td>0.0</td>\n",
       "      <td>...</td>\n",
       "      <td>0.0</td>\n",
       "      <td>0.0</td>\n",
       "      <td>0.0</td>\n",
       "      <td>0.0</td>\n",
       "      <td>0.0</td>\n",
       "      <td>0.0</td>\n",
       "      <td>1.0</td>\n",
       "      <td>0.0</td>\n",
       "      <td>0.0</td>\n",
       "      <td>0.0</td>\n",
       "    </tr>\n",
       "    <tr>\n",
       "      <th>10</th>\n",
       "      <td>Houston</td>\n",
       "      <td>93431.0</td>\n",
       "      <td>False</td>\n",
       "      <td>0.0</td>\n",
       "      <td>0.0</td>\n",
       "      <td>1.0</td>\n",
       "      <td>0.0</td>\n",
       "      <td>0.0</td>\n",
       "      <td>0.0</td>\n",
       "      <td>0.0</td>\n",
       "      <td>...</td>\n",
       "      <td>0.0</td>\n",
       "      <td>0.0</td>\n",
       "      <td>0.0</td>\n",
       "      <td>0.0</td>\n",
       "      <td>0.0</td>\n",
       "      <td>0.0</td>\n",
       "      <td>1.0</td>\n",
       "      <td>0.0</td>\n",
       "      <td>0.0</td>\n",
       "      <td>0.0</td>\n",
       "    </tr>\n",
       "    <tr>\n",
       "      <th>19</th>\n",
       "      <td>Houston</td>\n",
       "      <td>64500.0</td>\n",
       "      <td>False</td>\n",
       "      <td>0.0</td>\n",
       "      <td>0.0</td>\n",
       "      <td>1.0</td>\n",
       "      <td>0.0</td>\n",
       "      <td>0.0</td>\n",
       "      <td>0.0</td>\n",
       "      <td>0.0</td>\n",
       "      <td>...</td>\n",
       "      <td>0.0</td>\n",
       "      <td>1.0</td>\n",
       "      <td>0.0</td>\n",
       "      <td>0.0</td>\n",
       "      <td>0.0</td>\n",
       "      <td>0.0</td>\n",
       "      <td>0.0</td>\n",
       "      <td>0.0</td>\n",
       "      <td>1.0</td>\n",
       "      <td>0.0</td>\n",
       "    </tr>\n",
       "  </tbody>\n",
       "</table>\n",
       "<p>5 rows × 25 columns</p>\n",
       "</div>"
      ],
      "text/plain": [
       "   location    salary salaryhigh  Gilbert  Glendale  Houston  Mesa  Phoenix  \\\n",
       "3   Houston  160000.0       True      0.0       0.0      1.0   0.0      0.0   \n",
       "6   Houston   49506.0      False      0.0       0.0      1.0   0.0      0.0   \n",
       "9   Houston   70000.0      False      0.0       0.0      1.0   0.0      0.0   \n",
       "10  Houston   93431.0      False      0.0       0.0      1.0   0.0      0.0   \n",
       "19  Houston   64500.0      False      0.0       0.0      1.0   0.0      0.0   \n",
       "\n",
       "    Scottsdale  Spring     ...      engineer  manager  other  analytics  corp  \\\n",
       "3          0.0     0.0     ...           0.0      0.0    0.0        0.0   0.0   \n",
       "6          0.0     0.0     ...           0.0      0.0    0.0        0.0   0.0   \n",
       "9          0.0     0.0     ...           0.0      0.0    0.0        0.0   0.0   \n",
       "10         0.0     0.0     ...           0.0      0.0    0.0        0.0   0.0   \n",
       "19         0.0     0.0     ...           0.0      1.0    0.0        0.0   0.0   \n",
       "\n",
       "    group  other  software  tech  university  \n",
       "3     0.0    1.0       0.0   0.0         0.0  \n",
       "6     0.0    1.0       0.0   0.0         0.0  \n",
       "9     0.0    1.0       0.0   0.0         0.0  \n",
       "10    0.0    1.0       0.0   0.0         0.0  \n",
       "19    0.0    0.0       0.0   1.0         0.0  \n",
       "\n",
       "[5 rows x 25 columns]"
      ]
     },
     "execution_count": 88,
     "metadata": {},
     "output_type": "execute_result"
    }
   ],
   "source": [
    "locationdf['key'] = range(len(locationdf['keyword']))\n",
    "locationdf = pd.concat([locationdf.drop('key',axis=1),pd.get_dummies(locationdf['keyword'])], axis = 1)\n",
    "locationdf['constant'] = 1\n",
    "del locationdf['keyword']\n",
    "#del locationdf['titlelevel']\n",
    "locationdf.head()"
   ]
  },
  {
   "cell_type": "code",
   "execution_count": 89,
   "metadata": {
    "collapsed": false
   },
   "outputs": [
    {
     "data": {
      "text/html": [
       "<div>\n",
       "<table border=\"1\" class=\"dataframe\">\n",
       "  <thead>\n",
       "    <tr style=\"text-align: right;\">\n",
       "      <th></th>\n",
       "      <th>Predicted High</th>\n",
       "      <th>Predicted Low</th>\n",
       "    </tr>\n",
       "  </thead>\n",
       "  <tbody>\n",
       "    <tr>\n",
       "      <th>Actual High</th>\n",
       "      <td>49</td>\n",
       "      <td>56</td>\n",
       "    </tr>\n",
       "    <tr>\n",
       "      <th>Actual Low</th>\n",
       "      <td>33</td>\n",
       "      <td>79</td>\n",
       "    </tr>\n",
       "  </tbody>\n",
       "</table>\n",
       "</div>"
      ],
      "text/plain": [
       "             Predicted High  Predicted Low\n",
       "Actual High              49             56\n",
       "Actual Low               33             79"
      ]
     },
     "execution_count": 89,
     "metadata": {},
     "output_type": "execute_result"
    }
   ],
   "source": [
    "model = LogisticRegression()\n",
    "X = locationdf[list(locationdf.columns[3:])]\n",
    "y = locationdf.salaryhigh\n",
    "model.fit(X, y)\n",
    "lr = LogisticRegression(solver='liblinear')\n",
    "ypredict = model.predict(X)\n",
    "cm = confusion_matrix(y,ypredict)\n",
    "dfcm = pd.DataFrame(cm, columns=['Predicted High','Predicted Low'], index=['Actual High','Actual Low'])\n",
    "dfcm"
   ]
  },
  {
   "cell_type": "code",
   "execution_count": null,
   "metadata": {
    "collapsed": false
   },
   "outputs": [],
   "source": []
  },
  {
   "cell_type": "code",
   "execution_count": 91,
   "metadata": {
    "collapsed": false
   },
   "outputs": [
    {
     "data": {
      "text/plain": [
       "0.47926179604261793"
      ]
     },
     "execution_count": 91,
     "metadata": {},
     "output_type": "execute_result"
    }
   ],
   "source": [
    "cross_val_score(lr, X, y, cv=3).mean()"
   ]
  },
  {
   "cell_type": "code",
   "execution_count": 95,
   "metadata": {
    "collapsed": false
   },
   "outputs": [],
   "source": [
    "acc = accuracy_score(y, ypredict)\n",
    "pres = precision_score(y, ypredict)\n",
    "reca = recall_score(y, ypredict)"
   ]
  },
  {
   "cell_type": "code",
   "execution_count": 96,
   "metadata": {
    "collapsed": false
   },
   "outputs": [
    {
     "name": "stdout",
     "output_type": "stream",
     "text": [
      "Accuracy Score: 0.589862\n",
      "Precision Score: 0.585185\n",
      "Recall Score: 0.705357\n"
     ]
    }
   ],
   "source": [
    "print \"Accuracy Score: %f\"%(acc)\n",
    "print \"Precision Score: %f\"%(pres)\n",
    "print \"Recall Score: %f\"%(reca)"
   ]
  },
  {
   "cell_type": "markdown",
   "metadata": {
    "focus": false,
    "id": "12d5edeb-a272-43a0-9977-d951f12fedfb"
   },
   "source": [
    "#### Take ~100 scraped entries with salaries. Convert them to use with your model and predict the salary - which entries have the highest predicted salaries?"
   ]
  },
  {
   "cell_type": "code",
   "execution_count": 107,
   "metadata": {
    "collapsed": false
   },
   "outputs": [
    {
     "name": "stderr",
     "output_type": "stream",
     "text": [
      "//anaconda/lib/python2.7/site-packages/sklearn/utils/validation.py:515: DataConversionWarning: A column-vector y was passed when a 1d array was expected. Please change the shape of y to (n_samples, ), for example using ravel().\n",
      "  y = column_or_1d(y, warn=True)\n"
     ]
    },
    {
     "data": {
      "text/plain": [
       "LogisticRegression(C=1.0, class_weight=None, dual=False, fit_intercept=True,\n",
       "          intercept_scaling=1, max_iter=100, multi_class='ovr', n_jobs=1,\n",
       "          penalty='l2', random_state=None, solver='liblinear', tol=0.0001,\n",
       "          verbose=0, warm_start=False)"
      ]
     },
     "execution_count": 107,
     "metadata": {},
     "output_type": "execute_result"
    }
   ],
   "source": [
    "Xtrain = locationdf[list(locationdf.columns[3:])]\n",
    "y = locationdf['salary'].to_frame().astype(int)\n",
    "model.fit(Xtrain, y)"
   ]
  },
  {
   "cell_type": "code",
   "execution_count": 108,
   "metadata": {
    "collapsed": false
   },
   "outputs": [],
   "source": [
    "newdf = locationdf.tail(100)\n",
    "yknown = newdf['salary']\n",
    "Xtest = newdf[list(newdf.columns[3:])]\n"
   ]
  },
  {
   "cell_type": "code",
   "execution_count": 109,
   "metadata": {
    "collapsed": false
   },
   "outputs": [
    {
     "name": "stdout",
     "output_type": "stream",
     "text": [
      "(100, 24)\n",
      "(100,)\n"
     ]
    }
   ],
   "source": [
    "print Xtest.shape\n",
    "print yknown.shape"
   ]
  },
  {
   "cell_type": "code",
   "execution_count": 110,
   "metadata": {
    "collapsed": true
   },
   "outputs": [],
   "source": [
    "ypredict = model.predict(Xtest)"
   ]
  },
  {
   "cell_type": "code",
   "execution_count": 111,
   "metadata": {
    "collapsed": false
   },
   "outputs": [
    {
     "data": {
      "image/png": "[encoded data removed]",
      "text/plain": [
       "<matplotlib.figure.Figure at 0x11996e850>"
      ]
     },
     "metadata": {},
     "output_type": "display_data"
    },
    {
     "name": "stdout",
     "output_type": "stream",
     "text": [
      "MSE: 2807127924.12\n"
     ]
    }
   ],
   "source": [
    "from sklearn.metrics import mean_squared_error\n",
    "plt.scatter(ypredict, yknown, s=30, c='b', marker='+', zorder=10)\n",
    "plt.xlabel(\"Predicted Salaries\")\n",
    "plt.ylabel(\"Actual Salaries\")\n",
    "plt.show()\n",
    "print \"MSE:\", mean_squared_error(yknown, ypredict)"
   ]
  },
  {
   "cell_type": "code",
   "execution_count": null,
   "metadata": {
    "collapsed": false
   },
   "outputs": [],
   "source": []
  },
  {
   "cell_type": "code",
   "execution_count": null,
   "metadata": {
    "collapsed": false
   },
   "outputs": [],
   "source": []
  },
  {
   "cell_type": "code",
   "execution_count": null,
   "metadata": {
    "collapsed": true
   },
   "outputs": [],
   "source": []
  },
  {
   "cell_type": "code",
   "execution_count": null,
   "metadata": {
    "collapsed": true
   },
   "outputs": [],
   "source": []
  }
 ],
 "metadata": {
  "kernelspec": {
   "display_name": "Python 2",
   "language": "python",
   "name": "python2"
  },
  "language_info": {
   "codemirror_mode": {
    "name": "ipython",
    "version": 2
   },
   "file_extension": ".py",
   "mimetype": "text/x-python",
   "name": "python",
   "nbconvert_exporter": "python",
   "pygments_lexer": "ipython2",
   "version": "2.7.12"
  }
 },
 "nbformat": 4,
 "nbformat_minor": 0
}
